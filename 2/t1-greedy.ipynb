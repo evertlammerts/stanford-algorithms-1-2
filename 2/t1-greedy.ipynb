{
 "cells": [
  {
   "cell_type": "code",
   "execution_count": 6,
   "metadata": {
    "collapsed": true
   },
   "outputs": [],
   "source": [
    "import heapq"
   ]
  },
  {
   "cell_type": "code",
   "execution_count": 18,
   "metadata": {
    "collapsed": true
   },
   "outputs": [],
   "source": [
    "h = list()\n",
    "\n",
    "def add_task(d, w): # duration, weight / priority\n",
    "    heapq.heappush(h, (-w/d, (d, w)))\n",
    "\n",
    "def sumup():\n",
    "    d = 0\n",
    "    s = 0\n",
    "    while len(h) > 0:\n",
    "        x = heapq.heappop(h)\n",
    "        d += x[1][0]\n",
    "        s += d * x[1][1]\n",
    "    print(s)"
   ]
  },
  {
   "cell_type": "code",
   "execution_count": 15,
   "metadata": {
    "collapsed": false
   },
   "outputs": [
    {
     "name": "stdout",
     "output_type": "stream",
     "text": [
      "220\n"
     ]
    }
   ],
   "source": [
    "for i in range(1, 11):\n",
    "    add_task(1, i)\n",
    "\n",
    "sumup()"
   ]
  }
 ],
 "metadata": {
  "kernelspec": {
   "display_name": "Python 3",
   "language": "python",
   "name": "python3"
  },
  "language_info": {
   "codemirror_mode": {
    "name": "ipython",
    "version": 3
   },
   "file_extension": ".py",
   "mimetype": "text/x-python",
   "name": "python",
   "nbconvert_exporter": "python",
   "pygments_lexer": "ipython3",
   "version": "3.5.0"
  }
 },
 "nbformat": 4,
 "nbformat_minor": 0
}
