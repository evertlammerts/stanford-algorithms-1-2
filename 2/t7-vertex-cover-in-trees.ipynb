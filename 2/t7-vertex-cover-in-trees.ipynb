{
 "cells": [
  {
   "cell_type": "code",
   "execution_count": 1,
   "metadata": {
    "collapsed": false
   },
   "outputs": [],
   "source": [
    "v = [\n",
    "    (8, (1,2,3)),\n",
    "    (9, (4,5)),\n",
    "    (3, (6,7)),\n",
    "    (6, (8,9,10)),\n",
    "    (8, (11,)),\n",
    "    (8, tuple()),\n",
    "    (4, (12,)),\n",
    "    (4, (13,)),\n",
    "    (4, tuple()),\n",
    "    (6, (14,15)),\n",
    "    (2, tuple()),\n",
    "    (4, tuple()),\n",
    "    (6, (16,17,18,19)),\n",
    "    (4, (20,)),\n",
    "    (1, (21,)),\n",
    "    (2, tuple()),\n",
    "    (5, tuple()),\n",
    "    (4, tuple()),\n",
    "    (3, (22,)),\n",
    "    (10, tuple()),\n",
    "    (4, tuple()),\n",
    "    (4, tuple()),\n",
    "    (9, tuple())\n",
    "]"
   ]
  },
  {
   "cell_type": "code",
   "execution_count": 81,
   "metadata": {
    "collapsed": false
   },
   "outputs": [
    {
     "data": {
      "text/plain": [
       "'\\n8\\n|-9\\n| |-8\\n| +-8\\n|   +-4\\n|-3\\n| |-4\\n| | +-6\\n| |   |-5\\n| |   |-4\\n| |   |-3\\n| |   | +-9\\n| |   +-10\\n| +-4\\n|   +-4\\n|     +-4\\n+-6\\n| |-4\\n| |-6\\n| | |-1\\n| | | +-4\\n| | +-2\\n| +-2\\n'"
      ]
     },
     "execution_count": 81,
     "metadata": {},
     "output_type": "execute_result"
    }
   ],
   "source": [
    "tree\n",
    "'''\n",
    "8\n",
    "|-9\n",
    "| |-8\n",
    "| +-8\n",
    "|   +-4\n",
    "|-3\n",
    "| |-4\n",
    "| | +-6\n",
    "| |   |-5\n",
    "| |   |-4\n",
    "| |   |-3\n",
    "| |   | +-9\n",
    "| |   +-10\n",
    "| +-4\n",
    "|   +-4\n",
    "|     +-4\n",
    "+-6\n",
    "| |-4\n",
    "| |-6\n",
    "| | |-1\n",
    "| | | +-4\n",
    "| | +-2\n",
    "| +-2\n",
    "'''"
   ]
  },
  {
   "cell_type": "code",
   "execution_count": 2,
   "metadata": {
    "collapsed": false
   },
   "outputs": [],
   "source": [
    "def vertex_cover_in_path_graphs(path):\n",
    "    assert len(path) >= 2\n",
    "    memo = [(path[1], path[0])]\n",
    "    for i in range(2, len(path)):\n",
    "        memo.append((memo[-1][1] + path[i], min(memo[-1][1] + path[i-1], memo[-1][0])))\n",
    "    print(memo)\n",
    "    result, i, m = [], len(memo)-1, min(memo[-1])\n",
    "    while i >= 0:\n",
    "        if memo[i][0] == m:\n",
    "            result.append(i+1)\n",
    "            m -= path[i+1]\n",
    "            i -= 1\n",
    "        else:\n",
    "            result.append(i)\n",
    "            m -= path[i]\n",
    "            i -= 2\n",
    "    result.reverse()\n",
    "    return tuple(result)"
   ]
  },
  {
   "cell_type": "code",
   "execution_count": 3,
   "metadata": {
    "collapsed": false
   },
   "outputs": [
    {
     "name": "stdout",
     "output_type": "stream",
     "text": [
      "[(1, 4), (5, 1), (5, 2), (3, 5)]\n"
     ]
    },
    {
     "data": {
      "text/plain": [
       "(1, 2, 4)"
      ]
     },
     "execution_count": 3,
     "metadata": {},
     "output_type": "execute_result"
    }
   ],
   "source": [
    "'''\n",
    "1 -> 2 -> 3 -> 4 -> 1 -> 1 -> 4\n",
    "... V[n-2] -> V[n-1] -> V[n]\n",
    "\n",
    "Observation:\n",
    "Either V[n] or V[n-1] is in the vertex cover\n",
    "\n",
    "Proof:\n",
    "By contradiction: if neither V[n] nor V[n-1] is in the cover, Edge(n-1, n) is not covered. \n",
    "\n",
    "When we append a new Edge[n, n+1] to the graph, we have two possibilities: either V[n] or V[n+1]\n",
    "is part of the cover. \n",
    "\n",
    "Adding V[n] to the graph gives us three options:\n",
    "\n",
    "1. Include V[n] to the cover that does not include V[n-1] (101)\n",
    "2. Exclude V[n], and choose the minimum of the two possible covers that include V[n-1] (110, 010)\n",
    "\n",
    "010\n",
    "110\n",
    "101\n",
    "'''\n",
    "\n",
    "vertex_cover_in_path_graphs((4,1,1,4,1))"
   ]
  },
  {
   "cell_type": "code",
   "execution_count": 45,
   "metadata": {
    "collapsed": true
   },
   "outputs": [],
   "source": [
    "def vertex_cover_in_trees(tree):\n",
    "    '''\n",
    "    Depth-first search (using a stack rather than recursion)\n",
    "    '''\n",
    "    visited, vertexstack, intersections = {0}, [0], dict()\n",
    "\n",
    "    def set_cover_score():\n",
    "        '''\n",
    "        Method that sets the cover scores for the path starting\n",
    "        at the 'lowest' vertex in the stack, upto the first inter-\n",
    "        section.\n",
    "        '''\n",
    "        start, path = vertexstack[-1], list()\n",
    "        # Find the path upto the first intersection\n",
    "        while True:\n",
    "            path.append(tree[vertexstack.pop()][0])\n",
    "            if len(tree[vertexstack[-1]][1]) > 1:\n",
    "                path.append(tree[vertexstack[-1]][0])\n",
    "                break\n",
    "\n",
    "        # Initialize the memo to the last known covers, if any\n",
    "        if start in intersections:\n",
    "            memo, i = [intersections[start]], 1\n",
    "        else:\n",
    "            memo, i = [(path[1], path[0])], 2\n",
    "\n",
    "        # Calculate the new covers\n",
    "        for i in range(i, len(path)):\n",
    "            memo.append((memo[-1][1] + path[i], min(memo[-1][1] + path[i-1], memo[-1][0])))\n",
    "\n",
    "        # Set the cover at the intersection\n",
    "        if vertexstack[-1] in intersections:\n",
    "            # We have already calculated the cover score of this intersection\n",
    "            # for another of its child paths. We just need to update the cover\n",
    "            # score, keeping in mind that we don't count the intersection's\n",
    "            # weight double.\n",
    "            intersections[vertexstack[-1]] = (\n",
    "                intersections[vertexstack[-1]][0] + memo[-1][0] - path[-1],\n",
    "                intersections[vertexstack[-1]][1] + memo[-1][1]\n",
    "            )\n",
    "        else:\n",
    "            # Set the cover score of this intersection based on the child path\n",
    "            intersections[vertexstack[-1]] = memo[-1]\n",
    "\n",
    "    # Here we do our depth first search through the tree:\n",
    "    while len(vertexstack) > 0:\n",
    "        cur_vertex = vertexstack[-1]\n",
    "        # Add the first child that has not been visited yet\n",
    "        for c in tree[vertexstack[-1]][1]:\n",
    "            if c not in visited:\n",
    "                vertexstack.append(c)\n",
    "                visited.add(c)\n",
    "                break\n",
    "        # if there are no more children that have not been visited, then\n",
    "        # calculate the cover score of the bottom-most vertex upto the first\n",
    "        # intersection\n",
    "        if cur_vertex == vertexstack[-1]:\n",
    "            if len(vertexstack) > 1:\n",
    "                set_cover_score()\n",
    "            else: \n",
    "                # UNLESS: there is only a single node left, in which case\n",
    "                # we pop it and end the search\n",
    "                vertexstack.pop()\n",
    "\n",
    "    # Retun the minimum score of the root's cover\n",
    "    return min(intersections[0])"
   ]
  },
  {
   "cell_type": "code",
   "execution_count": 46,
   "metadata": {
    "collapsed": false
   },
   "outputs": [
    {
     "data": {
      "text/plain": [
       "44"
      ]
     },
     "execution_count": 46,
     "metadata": {},
     "output_type": "execute_result"
    }
   ],
   "source": [
    "vertex_cover_in_trees(v)"
   ]
  }
 ],
 "metadata": {
  "kernelspec": {
   "display_name": "Python 3",
   "language": "python",
   "name": "python3"
  },
  "language_info": {
   "codemirror_mode": {
    "name": "ipython",
    "version": 3
   },
   "file_extension": ".py",
   "mimetype": "text/x-python",
   "name": "python",
   "nbconvert_exporter": "python",
   "pygments_lexer": "ipython3",
   "version": "3.5.0"
  }
 },
 "nbformat": 4,
 "nbformat_minor": 0
}
