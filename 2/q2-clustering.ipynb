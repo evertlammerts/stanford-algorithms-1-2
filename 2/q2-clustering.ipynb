{
 "cells": [
  {
   "cell_type": "code",
   "execution_count": 1,
   "metadata": {
    "collapsed": false
   },
   "outputs": [],
   "source": [
    "def clustering1():\n",
    "    edges = list()\n",
    "    vertexes = dict()\n",
    "    with open('clustering1.txt') as f:\n",
    "        print(\"{} nodes\".format(f.readline()[:-1]))\n",
    "        for line in f:\n",
    "            uid, vid, c = (int(x) for x in line.split())\n",
    "            vertexes[uid] = (uid, 0) # parent, rank\n",
    "            vertexes[vid] = (vid, 0) # parent, rank\n",
    "            edges.append((c, uid, vid))\n",
    "    edges = tuple(sorted(edges))\n",
    "    return edges, vertexes\n",
    "\n",
    "def testset(t):\n",
    "    edges = list()\n",
    "    vertexes = dict()\n",
    "    for (uid, vid, c) in t:\n",
    "        vertexes[uid] = (uid, 0) # parent, rank\n",
    "        vertexes[vid] = (vid, 0) # parent, rank\n",
    "        edges.append((c, uid, vid))\n",
    "    edges = tuple(sorted(edges))\n",
    "    return edges, vertexes\n",
    "\n",
    "# TESTCASE 1:\n",
    "# k = 2: 6\n",
    "# k = 3: 5\n",
    "# k = 4: 2\n",
    "t1 = ((1, 2, 1),(1, 3, 2),(1, 4, 7),(1, 5, 8),(1, 6, 10),(1, 7, 16),(1, 8, 17),(2, 3, 1),\n",
    "      (2, 4, 6),(2, 5, 7),(2, 6, 9),(2, 7, 15),(2, 8, 16),(3, 4, 5),(3, 5, 6),(3, 6, 8),\n",
    "      (3, 7, 14),(3, 8, 15),(4, 5, 1),(4, 6, 3),(4, 7, 9),(4, 8, 10),(5, 6, 2),(5, 7, 8),\n",
    "      (5, 8, 9),(6, 7, 6),(6, 8, 7),(7, 8, 1))\n",
    "def testset1():\n",
    "    return testset(t1)\n",
    "\n",
    "# TESTCASE 2:\n",
    "# k = 2: 4472\n",
    "# k = 3: 3606\n",
    "# k = 4: 1414\n",
    "t2 = ((1, 2, 1000),(1, 3, 1000),(1, 4, 1414),(1, 5, 5385),(1, 6, 5000),(1, 7, 7280),(1, 8, 8246),\n",
    "      (1, 9, 8062),(2, 3, 1414),(2, 4, 1000),(2, 5, 5010),(2, 6, 4472),(2, 7, 6325),(2, 8, 7280),\n",
    "      (2, 9, 7071),(3, 4, 1000),(3, 5, 4472),(3, 6, 4240),(3, 7, 7071),(3, 8, 8062),(3, 9, 8000),\n",
    "      (4, 5, 4123),(4, 6, 3606),(4, 7, 6083),(4, 8, 7071),(4, 9, 7000),(5, 6, 1414),(5, 7, 5831),\n",
    "      (5, 8, 6708),(5, 9, 7211),(6, 7, 4472),(6, 8, 5385),(6, 9, 8831),(7, 8, 1000),(7, 9, 1414),\n",
    "      (8, 9, 1000))\n",
    "def testset2():\n",
    "    return testset(t2)"
   ]
  },
  {
   "cell_type": "code",
   "execution_count": 2,
   "metadata": {
    "collapsed": false
   },
   "outputs": [],
   "source": [
    "def find(vid, vertexes):\n",
    "    p = vertexes[vid][0]\n",
    "    while vertexes[p][0] != p:\n",
    "        p = vertexes[p][0]\n",
    "    return p\n",
    "\n",
    "def union(edge, vertexes, t):\n",
    "    uroot = find(edge[1], vertexes)\n",
    "    vroot = find(edge[2], vertexes)\n",
    "    if uroot != vroot:\n",
    "        t.append(edge)\n",
    "        if vertexes[uroot][1] > vertexes[vroot][1]:\n",
    "            vertexes[vroot] = (uroot, vertexes[vroot][1])\n",
    "            vertexes[edge[1]] = (uroot, vertexes[edge[1]][1])\n",
    "            vertexes[edge[2]] = (uroot, vertexes[edge[2]][1])\n",
    "        elif vertexes[uroot][1] < vertexes[vroot][1]:\n",
    "            vertexes[uroot] = (vroot, vertexes[uroot][1])\n",
    "            vertexes[edge[1]] = (vroot, vertexes[edge[1]][1])\n",
    "            vertexes[edge[2]] = (vroot, vertexes[edge[2]][1])\n",
    "        else:\n",
    "            vertexes[vroot] = (uroot, vertexes[vroot][1])\n",
    "            vertexes[uroot] = (uroot, vertexes[uroot][1] + 1)\n",
    "            vertexes[edge[1]] = (uroot, vertexes[edge[1]][1])\n",
    "            vertexes[edge[2]] = (uroot, vertexes[edge[2]][1])\n",
    "        return 1\n",
    "    return 0"
   ]
  },
  {
   "cell_type": "code",
   "execution_count": 3,
   "metadata": {
    "collapsed": false
   },
   "outputs": [
    {
     "name": "stdout",
     "output_type": "stream",
     "text": [
      "Max spacing 6 (6 == 6 = True)\n",
      "Max spacing 5 (5 == 5 = True)\n",
      "Max spacing 2 (2 == 2 = True)\n",
      "Max spacing 4472 (4472 == 4472 = True)\n",
      "Max spacing 3606 (3606 == 3606 = True)\n",
      "Max spacing 1414 (1414 == 1414 = True)\n",
      "500 nodes\n",
      "Max spacing 106\n"
     ]
    }
   ],
   "source": [
    "for obj in ((2, 6), (3, 5), (4, 2)):\n",
    "    edges, vertexes = testset1()\n",
    "    t, k, i = list(), len(vertexes), 0\n",
    "    while k > obj[0]:\n",
    "        k, i = k - union(edges[i], vertexes, t), i + 1\n",
    "    while find(edges[i][1], vertexes) == find(edges[i][2], vertexes):\n",
    "        i += 1\n",
    "    print(\"Max spacing {} ({} == {} = {})\".format(edges[i][0], edges[i][0], obj[1], edges[i][0] == obj[1]))\n",
    "\n",
    "for obj in ((2, 4472), (3, 3606), (4, 1414)):\n",
    "    edges, vertexes = testset2()\n",
    "    t, k, i = list(), len(vertexes), 0\n",
    "    while k > obj[0]:\n",
    "        k, i = k - union(edges[i], vertexes, t), i + 1\n",
    "    while find(edges[i][1], vertexes) == find(edges[i][2], vertexes):\n",
    "        i += 1\n",
    "    print(\"Max spacing {} ({} == {} = {})\".format(edges[i][0], edges[i][0], obj[1], edges[i][0] == obj[1]))\n",
    "\n",
    "obj = 4\n",
    "edges, vertexes = clustering1()\n",
    "t, k, i = list(), len(vertexes), 0\n",
    "while k > obj:\n",
    "    k, i = k - union(edges[i], vertexes, t), i + 1\n",
    "while find(edges[i][1], vertexes) == find(edges[i][2], vertexes):\n",
    "    i += 1\n",
    "print(\"Max spacing {}\".format(edges[i][0]))"
   ]
  },
  {
   "cell_type": "code",
   "execution_count": 5,
   "metadata": {
    "collapsed": false
   },
   "outputs": [
    {
     "data": {
      "text/plain": [
       "((1, (1, 1)), (4, (4, 1)), (7, (7, 1)))"
      ]
     },
     "execution_count": 5,
     "metadata": {},
     "output_type": "execute_result"
    }
   ],
   "source": [
    "tuple((v, vertexes[v]) for v in vertexes if vertexes[v][0] == v)"
   ]
  },
  {
   "cell_type": "code",
   "execution_count": 1,
   "metadata": {
    "collapsed": true
   },
   "outputs": [],
   "source": [
    "def clustering_big():\n",
    "    vertexes = dict()\n",
    "    with open('clustering_big.txt', 'r') as f:\n",
    "        print(\"{} lines, {} bits per line\".format(*f.readline().split()))\n",
    "        for l in f:\n",
    "            n = tuple(int(i) for i in l.split())\n",
    "            s = sum(n[i] << 23-i for i in range(0, 24))\n",
    "            vertexes[s] = (s, 0) # parent, rank\n",
    "    return vertexes\n",
    "\n",
    "def ham1():\n",
    "    for i in range(23, -1, -1):\n",
    "        yield 1 << i\n",
    "\n",
    "def ham2():\n",
    "    for i in range(23, 0, -1):\n",
    "        for j in range(i-1, -1, -1):\n",
    "            yield 1 << i | 1 << j"
   ]
  },
  {
   "cell_type": "code",
   "execution_count": 76,
   "metadata": {
    "collapsed": true
   },
   "outputs": [],
   "source": [
    "def find(vid, vertexes):\n",
    "    p = vertexes[vid][0]\n",
    "    while vertexes[p][0] != p:\n",
    "        p = vertexes[p][0]\n",
    "    return p\n",
    "\n",
    "def union(u, v, vertexes, t):\n",
    "    uroot = find(u, vertexes)\n",
    "    vroot = find(v, vertexes)\n",
    "    if uroot != vroot:\n",
    "        t.append((u, v))\n",
    "        if vertexes[uroot][1] > vertexes[vroot][1]:\n",
    "            vertexes[vroot] = (uroot, vertexes[vroot][1])\n",
    "            vertexes[u] = (uroot, vertexes[u][1])\n",
    "            vertexes[v] = (uroot, vertexes[v][1])\n",
    "        elif vertexes[uroot][1] < vertexes[vroot][1]:\n",
    "            vertexes[uroot] = (vroot, vertexes[uroot][1])\n",
    "            vertexes[u] = (vroot, vertexes[u][1])\n",
    "            vertexes[v] = (vroot, vertexes[v][1])\n",
    "        else:\n",
    "            vertexes[vroot] = (uroot, vertexes[vroot][1])\n",
    "            vertexes[uroot] = (uroot, vertexes[uroot][1] + 1)\n",
    "            vertexes[u] = (uroot, vertexes[u][1])\n",
    "            vertexes[v] = (uroot, vertexes[v][1])"
   ]
  },
  {
   "cell_type": "code",
   "execution_count": 77,
   "metadata": {
    "collapsed": false
   },
   "outputs": [
    {
     "name": "stdout",
     "output_type": "stream",
     "text": [
      "200000 lines, 24 bits per line\n"
     ]
    }
   ],
   "source": [
    "t, v = list(), clustering_big()\n",
    "for key in v:\n",
    "    for mask in ham1():\n",
    "        if key^mask in v:\n",
    "            union(key, key^mask, v, t)\n",
    "for key in v:\n",
    "    for mask in ham2():\n",
    "        if key^mask in v:\n",
    "            union(key, key^mask, v, t)"
   ]
  },
  {
   "cell_type": "code",
   "execution_count": 86,
   "metadata": {
    "collapsed": false
   },
   "outputs": [
    {
     "data": {
      "text/plain": [
       "6118"
      ]
     },
     "execution_count": 86,
     "metadata": {},
     "output_type": "execute_result"
    }
   ],
   "source": [
    "len(tuple(k for k in v if k == v[k][0]))"
   ]
  }
 ],
 "metadata": {
  "kernelspec": {
   "display_name": "Python 3",
   "language": "python",
   "name": "python3"
  },
  "language_info": {
   "codemirror_mode": {
    "name": "ipython",
    "version": 3
   },
   "file_extension": ".py",
   "mimetype": "text/x-python",
   "name": "python",
   "nbconvert_exporter": "python",
   "pygments_lexer": "ipython3",
   "version": "3.5.0"
  }
 },
 "nbformat": 4,
 "nbformat_minor": 0
}
