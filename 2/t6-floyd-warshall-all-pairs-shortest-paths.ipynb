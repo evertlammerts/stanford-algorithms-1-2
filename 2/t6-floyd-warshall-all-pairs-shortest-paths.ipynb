{
 "cells": [
  {
   "cell_type": "code",
   "execution_count": 28,
   "metadata": {
    "collapsed": true
   },
   "outputs": [],
   "source": [
    "from collections import defaultdict\n",
    "\n",
    "e = ((1, 2, 4),\n",
    "     (1, 3, 2),\n",
    "     (2, 5, 4),\n",
    "     (2, 4, 3),\n",
    "     (3, 2, 1),\n",
    "     (3, 4, 2),\n",
    "     (4, 5, 2))\n",
    "\n",
    "g = defaultdict(dict)\n",
    "for u, v, c in e:\n",
    "    g[u][v] = c\n",
    "    if v not in g:\n",
    "        g[v] = dict()"
   ]
  },
  {
   "cell_type": "code",
   "execution_count": 15,
   "metadata": {
    "collapsed": false
   },
   "outputs": [
    {
     "data": {
      "text/plain": [
       "defaultdict(dict,\n",
       "            {1: {2: 4, 3: 2}, 2: {5: 4}, 3: {2: 1, 4: 2}, 4: {5: 2}, 5: {}})"
      ]
     },
     "execution_count": 15,
     "metadata": {},
     "output_type": "execute_result"
    }
   ],
   "source": [
    "g"
   ]
  },
  {
   "cell_type": "code",
   "execution_count": 16,
   "metadata": {
    "collapsed": false
   },
   "outputs": [],
   "source": [
    "def floyd_warshall(g):\n",
    "    vertexes = tuple(g.keys())\n",
    "    a = [{v: {w: 0 if w == v else (g[v][w] if w in g[v] else float('inf')) for w in vertexes} for v in vertexes},\n",
    "         {v: {w: 0 if w == v else (g[v][w] if w in g[v] else float('inf')) for w in vertexes} for v in vertexes}]\n",
    "    for i in range(1, len(vertexes) + 1):\n",
    "        ii = i % 2\n",
    "        curcol, prevcol = a[ii], a[ii-1]\n",
    "        for u in vertexes:\n",
    "            for v in vertexes:\n",
    "                curcol[u][v] = min(prevcol[u][v], prevcol[u][i] + prevcol[i][v])\n",
    "    return a"
   ]
  },
  {
   "cell_type": "code",
   "execution_count": 17,
   "metadata": {
    "collapsed": false
   },
   "outputs": [
    {
     "data": {
      "text/plain": [
       "[{1: {1: 0, 2: 3, 3: 2, 4: 4, 5: 6},\n",
       "  2: {1: inf, 2: 0, 3: inf, 4: inf, 5: 4},\n",
       "  3: {1: inf, 2: 1, 3: 0, 4: 2, 5: 4},\n",
       "  4: {1: inf, 2: inf, 3: inf, 4: 0, 5: 2},\n",
       "  5: {1: inf, 2: inf, 3: inf, 4: inf, 5: 0}},\n",
       " {1: {1: 0, 2: 3, 3: 2, 4: 4, 5: 6},\n",
       "  2: {1: inf, 2: 0, 3: inf, 4: inf, 5: 4},\n",
       "  3: {1: inf, 2: 1, 3: 0, 4: 2, 5: 4},\n",
       "  4: {1: inf, 2: inf, 3: inf, 4: 0, 5: 2},\n",
       "  5: {1: inf, 2: inf, 3: inf, 4: inf, 5: 0}}]"
      ]
     },
     "execution_count": 17,
     "metadata": {},
     "output_type": "execute_result"
    }
   ],
   "source": [
    "floyd_warshall(g)"
   ]
  },
  {
   "cell_type": "code",
   "execution_count": 29,
   "metadata": {
    "collapsed": false
   },
   "outputs": [],
   "source": [
    "def floyd_warshall_strange(g):\n",
    "    vertexes = tuple(g.keys())\n",
    "    a = [{v: {w: 1 if w in g[v] else 0 for w in vertexes} for v in vertexes},\n",
    "         {v: {w: 1 if w in g[v] else 0 for w in vertexes} for v in vertexes}]\n",
    "    for i in range(1, len(vertexes) + 1):\n",
    "        ii = i % 2\n",
    "        curcol, prevcol = a[ii], a[ii-1]\n",
    "        for u in vertexes:\n",
    "            for v in vertexes:\n",
    "                curcol[u][v] = prevcol[u][v] + prevcol[u][i] * prevcol[i][v]\n",
    "    return a"
   ]
  },
  {
   "cell_type": "code",
   "execution_count": 30,
   "metadata": {
    "collapsed": false
   },
   "outputs": [
    {
     "data": {
      "text/plain": [
       "[{1: {1: 0, 2: 2, 3: 1, 4: 3, 5: 5},\n",
       "  2: {1: 0, 2: 0, 3: 0, 4: 1, 5: 2},\n",
       "  3: {1: 0, 2: 1, 3: 0, 4: 2, 5: 3},\n",
       "  4: {1: 0, 2: 0, 3: 0, 4: 0, 5: 1},\n",
       "  5: {1: 0, 2: 0, 3: 0, 4: 0, 5: 0}},\n",
       " {1: {1: 0, 2: 2, 3: 1, 4: 3, 5: 5},\n",
       "  2: {1: 0, 2: 0, 3: 0, 4: 1, 5: 2},\n",
       "  3: {1: 0, 2: 1, 3: 0, 4: 2, 5: 3},\n",
       "  4: {1: 0, 2: 0, 3: 0, 4: 0, 5: 1},\n",
       "  5: {1: 0, 2: 0, 3: 0, 4: 0, 5: 0}}]"
      ]
     },
     "execution_count": 30,
     "metadata": {},
     "output_type": "execute_result"
    }
   ],
   "source": [
    "floyd_warshall_strange(g)"
   ]
  }
 ],
 "metadata": {
  "kernelspec": {
   "display_name": "Python 3",
   "language": "python",
   "name": "python3"
  },
  "language_info": {
   "codemirror_mode": {
    "name": "ipython",
    "version": 3
   },
   "file_extension": ".py",
   "mimetype": "text/x-python",
   "name": "python",
   "nbconvert_exporter": "python",
   "pygments_lexer": "ipython3",
   "version": "3.5.0"
  }
 },
 "nbformat": 4,
 "nbformat_minor": 0
}
