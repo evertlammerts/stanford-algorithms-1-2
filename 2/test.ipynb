{
 "cells": [
  {
   "cell_type": "code",
   "execution_count": 93,
   "metadata": {
    "collapsed": true
   },
   "outputs": [],
   "source": [
    "from functools import reduce\n",
    "\n",
    "class TrieNode:\n",
    "    def __init__(self):\n",
    "        self.c = dict()\n",
    "        self.sym = None\n",
    "    \n",
    "def bracket(words, symbols):\n",
    "    root = TrieNode()\n",
    "    for s in symbols:\n",
    "        t = root\n",
    "        for char in s:\n",
    "            if char not in t.c:\n",
    "                t.c[char] = TrieNode()\n",
    "            t = t.c[char]\n",
    "        t.sym = s\n",
    "    result = dict()\n",
    "    for word in words:\n",
    "        i = 0\n",
    "        symlist = list()\n",
    "        while i < len(word):\n",
    "            j, t = i, root\n",
    "            while j < len(word) and word[j] in t.c:\n",
    "                t = t.c[word[j]]\n",
    "                if t.sym is not None:\n",
    "                    symlist.append((j+1-len(t.sym), j+1, t.sym))\n",
    "                j += 1\n",
    "            i += 1\n",
    "        if len(symlist) > 0:\n",
    "            sym = reduce(lambda x, y: x if x[1]-x[0] >= y[1]-y[0] else y, symlist)\n",
    "            result[word] = \"{}[{}]{}\".format(word[:sym[0]], sym[2], word[sym[1]:])\n",
    "    return tuple(word if word not in result else result[word] for word in words)"
   ]
  },
  {
   "cell_type": "code",
   "execution_count": 94,
   "metadata": {
    "collapsed": false
   },
   "outputs": [
    {
     "data": {
      "text/plain": [
       "('[am]azon', 'mi[cro]soft', 'goog[le]')"
      ]
     },
     "execution_count": 94,
     "metadata": {},
     "output_type": "execute_result"
    }
   ],
   "source": [
    "bracket(['amazon', 'microsoft', 'google'], ['i', 'am', 'cro', 'na', 'le', 'abc'])"
   ]
  }
 ],
 "metadata": {
  "kernelspec": {
   "display_name": "Python 3",
   "language": "python",
   "name": "python3"
  },
  "language_info": {
   "codemirror_mode": {
    "name": "ipython",
    "version": 3
   },
   "file_extension": ".py",
   "mimetype": "text/x-python",
   "name": "python",
   "nbconvert_exporter": "python",
   "pygments_lexer": "ipython3",
   "version": "3.5.0"
  }
 },
 "nbformat": 4,
 "nbformat_minor": 0
}
