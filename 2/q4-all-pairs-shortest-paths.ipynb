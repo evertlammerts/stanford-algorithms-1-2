{
 "cells": [
  {
   "cell_type": "code",
   "execution_count": 5,
   "metadata": {
    "collapsed": true
   },
   "outputs": [],
   "source": [
    "from collections import namedtuple\n",
    "Vertex = namedtuple('Vertex', ('tails', 'heads'))\n",
    "\n",
    "def graph(filename):\n",
    "    with open(filename) as f:\n",
    "        print('{} vertices, {} edges'.format(*f.readline()[:-1].split()))\n",
    "        graph, neg = dict(), False\n",
    "        for l in f:\n",
    "            u, v, c = tuple(int(x) for x in l.split())\n",
    "            if u not in graph:\n",
    "                graph[u] = Vertex(dict(), dict())\n",
    "            if v not in graph:\n",
    "                graph[v] = Vertex(dict(), dict())\n",
    "            graph[u].heads[v] = c\n",
    "            graph[v].tails[u] = c\n",
    "            if c < 0:\n",
    "                neg = True\n",
    "    return graph, neg"
   ]
  },
  {
   "cell_type": "code",
   "execution_count": 17,
   "metadata": {
    "collapsed": false
   },
   "outputs": [],
   "source": [
    "def floyd_warshall(g):\n",
    "    vertexes = tuple(g.keys())\n",
    "    a = [{v: {w: 0 if w == v else (g[v].heads[w] if w in g[v].heads else float('inf')) for w in vertexes} for v in vertexes},\n",
    "         {v: {w: 0 if w == v else (g[v].heads[w] if w in g[v].heads else float('inf')) for w in vertexes} for v in vertexes}]\n",
    "    for i in range(1, len(vertexes)):\n",
    "        ii = i % 2\n",
    "        curcol, prevcol = a[ii], a[ii-1]\n",
    "        for u in vertexes:\n",
    "            for v in vertexes:\n",
    "                curcol[u][v] = min(prevcol[u][v], prevcol[u][i] + prevcol[i][v])\n",
    "    return curcol"
   ]
  },
  {
   "cell_type": "code",
   "execution_count": 3,
   "metadata": {
    "collapsed": true
   },
   "outputs": [],
   "source": [
    "def bellman_ford(g, s):\n",
    "    vertexes = tuple(g.keys())\n",
    "    a = [{v: 0 if v == s else float('inf') for v in vertexes}, dict()]\n",
    "    for i in range(1, len(vertexes) + 1):\n",
    "        ii = i % 2\n",
    "        curcol, prevcol = a[ii], a[ii-1]\n",
    "        for v in vertexes:\n",
    "            try:\n",
    "                curcol[v] = min(prevcol[v], min(prevcol[x] + g[v].tails[x] for x in g[v].tails))\n",
    "            except ValueError: # the min() was empty\n",
    "                curcol[v] = prevcol[v]\n",
    "    return a"
   ]
  },
  {
   "cell_type": "code",
   "execution_count": 26,
   "metadata": {
    "collapsed": true
   },
   "outputs": [],
   "source": [
    "from heapq import heappush, heappop\n",
    "\n",
    "def dijkstra(g, s):\n",
    "    paths = dict()\n",
    "    adj_v = list() # heap\n",
    "    paths[s] = 0\n",
    "    for v in g[s].heads:\n",
    "        heappush(adj_v, (g[s].heads[v], v))\n",
    "    while len(adj_v) > 0:\n",
    "        greedy, u = heappop(adj_v)\n",
    "        if u not in paths:\n",
    "            paths[u] = greedy\n",
    "            for v in g[u].heads:\n",
    "                if v not in paths:\n",
    "                    heappush(adj_v, (g[u].heads[v], v))\n",
    "    return paths"
   ]
  },
  {
   "cell_type": "code",
   "execution_count": 34,
   "metadata": {
    "collapsed": true
   },
   "outputs": [],
   "source": [
    "def johnson(g):\n",
    "    print(\"Running Johnson\")\n",
    "    # 1. Creating a copy of the input graph\n",
    "    print(\"Copying the input graph\")\n",
    "    gg = {v: Vertex(g[v].tails.copy(), g[v].heads.copy()) for v in g}\n",
    "    # 2. Add node (-1) as a tail to all other nodes, with weight 0\n",
    "    print(\"1 Reweighting: Adding virtual node and connecting it to all other nodes\")\n",
    "    for v in gg:\n",
    "        gg[v].tails[-1] = 0\n",
    "    gg[-1] = Vertex(tuple(), tuple())\n",
    "    # 3. Run BF with source -1\n",
    "    print(\"1 Reweighting: Running Bellman-Ford to compute node labels\")\n",
    "    a = bellman_ford(gg, -1)\n",
    "    # Found negative cycle?\n",
    "    if a[0] != a[1]:\n",
    "        raise ValueError('input graph contains a negative cycle!')\n",
    "    # 4. Create another copy with new edge weights\n",
    "    print(\"1 Reweighting: computing new edge weights\")\n",
    "    gg = {v: Vertex(tuple(), {w: g[v].heads[w] + a[0][v] - a[0][w] for w in g[v].heads}) for v in g}\n",
    "    # 5. Running Dijkstra for every source - destination pair\n",
    "    print(\"2 Running Dijkstra {} times\".format(len(g)))\n",
    "    result = dict()\n",
    "    for v in gg:\n",
    "        d = dijkstra(gg, v)\n",
    "        result[v] = {w: d[w] - a[0][v] + a[0][w] for w in d}\n",
    "    return result"
   ]
  },
  {
   "cell_type": "code",
   "execution_count": 35,
   "metadata": {
    "collapsed": false
   },
   "outputs": [
    {
     "name": "stdout",
     "output_type": "stream",
     "text": [
      "Computing shortest paths in g3.txt\n",
      "1000 vertices, 47978 edges\n",
      "Running Johnson\n",
      "Copying the input graph\n",
      "1 Reweighting: Adding virtual node and connecting it to all other nodes\n",
      "1 Reweighting: Running Bellman-Ford to compute node labels\n",
      "1 Reweighting: computing new edge weights\n",
      "2 Running Dijkstra 1000 times\n",
      "-19\n"
     ]
    }
   ],
   "source": [
    "#for filename in ('g1.txt', 'g2.txt', 'g3.txt'):\n",
    "for filename in ('g3.txt',):\n",
    "    print(\"Computing shortest paths in {}\".format(filename))\n",
    "    g = graph(filename)\n",
    "    try:\n",
    "        a = johnson(g[0])\n",
    "    except ValueError as e:\n",
    "        print(e)\n",
    "    else:\n",
    "        print(min(a[x][y] for x in a for y in a[x]))"
   ]
  }
 ],
 "metadata": {
  "kernelspec": {
   "display_name": "Python 3",
   "language": "python",
   "name": "python3"
  },
  "language_info": {
   "codemirror_mode": {
    "name": "ipython",
    "version": 3
   },
   "file_extension": ".py",
   "mimetype": "text/x-python",
   "name": "python",
   "nbconvert_exporter": "python",
   "pygments_lexer": "ipython3",
   "version": "3.5.0"
  }
 },
 "nbformat": 4,
 "nbformat_minor": 0
}
