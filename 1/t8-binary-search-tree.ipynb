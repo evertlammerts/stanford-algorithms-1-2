{
 "cells": [
  {
   "cell_type": "code",
   "execution_count": 234,
   "metadata": {
    "collapsed": false
   },
   "outputs": [],
   "source": [
    "class Node:\n",
    "\n",
    "    __slots__ = {'k', 'p', 'l', 'r', 's'}\n",
    "\n",
    "    def __init__(self, k, p=None, l=None, r=None, s=1):\n",
    "        self.k = k\n",
    "        self.p = p\n",
    "        self.l = l\n",
    "        self.r = r\n",
    "        self.s = s\n",
    "\n",
    "class BinTree:\n",
    "\n",
    "\n",
    "    def __init__(self):\n",
    "        self.root = None\n",
    "\n",
    "    def add(self, *keys):\n",
    "        if len(keys) > 0:\n",
    "            if self.root is None:\n",
    "                self.root = Node(keys[0])\n",
    "                keys = keys[1:]\n",
    "            for key in keys:\n",
    "                p = self.root\n",
    "                while True:\n",
    "                    p.s += 1\n",
    "                    if key <= p.k:\n",
    "                        if p.l is None:\n",
    "                            p.l = Node(key, p=p)\n",
    "                            break\n",
    "                        else:\n",
    "                            p = p.l\n",
    "                    else:\n",
    "                        if p.r is None:\n",
    "                            p.r = Node(key, p=p)\n",
    "                            break\n",
    "                        else:\n",
    "                            p = p.r\n",
    "\n",
    "    def max(self):\n",
    "        n = self._minmax(min=False)\n",
    "        return n if n is None else n.k\n",
    "\n",
    "    def min(self):\n",
    "        n = self._minmax()\n",
    "        return n if n is None else n.k\n",
    "\n",
    "    def _minmax(self, start_at=None, min=True):\n",
    "        m = None\n",
    "        p = self.root if start_at is None else start_at\n",
    "        while p is not None:\n",
    "            m, p = p, p.l if min else p.r\n",
    "        return m\n",
    "\n",
    "    def print(self):\n",
    "        if self.root is None:\n",
    "            return\n",
    "        stack = [(self.root, self.root.l)]\n",
    "        while len(stack) > 0:\n",
    "            n = stack.pop()\n",
    "            if len(n) == 2: # we should recurse leftwards\n",
    "                stack.append((n[0],))\n",
    "                if n[1] is not None:\n",
    "                    stack.append((n[1], n[1].l))\n",
    "            else: # we should print the current value and recurse rightwards\n",
    "                print('%d (treesize: %d)' % (n[0].k, n[0].s))\n",
    "                if n[0].r is not None:\n",
    "                    stack.append((n[0].r, n[0].r.l))\n",
    "\n",
    "    def print_recursive(self):\n",
    "        def recurse(n):\n",
    "            if n is None:\n",
    "                return\n",
    "            recurse(n.l)\n",
    "            print('%d (treesize: %d)' % (n.k, n.s))\n",
    "            recurse(n.r)\n",
    "        recurse(self.root)\n",
    "\n",
    "    def _find(self, key):\n",
    "        n = self.root\n",
    "        while n is not None and n.k != key:\n",
    "            n = n.l if key < n.k else n.r\n",
    "        return n\n",
    "\n",
    "    def predecessor(self, key):\n",
    "        n = self._find(key)\n",
    "        if n is None:\n",
    "            return\n",
    "        if n.l is not None:\n",
    "            return self._minmax(start_at=n.l, min=False).k\n",
    "        p = n.p\n",
    "        while p is not None and p.k >= key:\n",
    "            p = p.p\n",
    "        return None if p is None else p.k\n",
    "\n",
    "    def delete(self, key):\n",
    "        n = self._find(key) # O(log_2(n))\n",
    "        if n is None:\n",
    "            return\n",
    "\n",
    "        if n.l is not None and n.r is not None: # switch node with its predecessor\n",
    "            pre = self._minmax(start_at=n.l, min=False) # O(log_2(n))\n",
    "            n.k, pre.k, n = pre.k, n.k, pre\n",
    "\n",
    "        child = n.l if n.r is None else n.r # now there is either 0 or 1 child\n",
    "\n",
    "        if child is not None: # if there is a child, we need to update it's parent\n",
    "            child.p = n.p\n",
    "\n",
    "        # now move the child to its parent's place\n",
    "        if n.p is None:\n",
    "            self.root = child\n",
    "        elif n.p.l is n:\n",
    "            n.p.l = child\n",
    "        else:\n",
    "            n.p.r = child\n",
    "\n",
    "        while n.p is not None: # decrease the child count in O(log_2(n))\n",
    "            n.p.s, n = n.p.s - 1, n.p\n",
    "\n",
    "    def select(self, i):\n",
    "        if self.root is None or not (1 <= i <= self.root.s):\n",
    "            raise IndexError()\n",
    "        offset, n = 0, self.root\n",
    "        while n is not None:\n",
    "            if n.l is not None:\n",
    "                if i <= offset + n.l.s:\n",
    "                    n = n.l\n",
    "                    continue\n",
    "                offset += n.l.s\n",
    "            offset += 1\n",
    "            if i == offset:\n",
    "                return n.k\n",
    "            n = n.r\n"
   ]
  },
  {
   "cell_type": "code",
   "execution_count": 235,
   "metadata": {
    "collapsed": false
   },
   "outputs": [],
   "source": [
    "t = BinTree()\n",
    "t.add(3, 1, 5, 2, 4)"
   ]
  },
  {
   "cell_type": "code",
   "execution_count": 240,
   "metadata": {
    "collapsed": false
   },
   "outputs": [
    {
     "data": {
      "text/plain": [
       "2"
      ]
     },
     "execution_count": 240,
     "metadata": {},
     "output_type": "execute_result"
    }
   ],
   "source": [
    "t.select(2)"
   ]
  },
  {
   "cell_type": "code",
   "execution_count": 203,
   "metadata": {
    "collapsed": false
   },
   "outputs": [
    {
     "name": "stdout",
     "output_type": "stream",
     "text": [
      "1 (treesize: 2)\n",
      "2 (treesize: 1)\n",
      "3 (treesize: 5)\n",
      "4 (treesize: 1)\n",
      "5 (treesize: 2)\n"
     ]
    }
   ],
   "source": [
    "t.print()"
   ]
  },
  {
   "cell_type": "code",
   "execution_count": 174,
   "metadata": {
    "collapsed": false
   },
   "outputs": [
    {
     "name": "stdout",
     "output_type": "stream",
     "text": [
      "1 (treesize: 2)\n",
      "2 (treesize: 1)\n",
      "3 (treesize: 5)\n",
      "4 (treesize: 1)\n",
      "5 (treesize: 2)\n"
     ]
    }
   ],
   "source": [
    "t.print_recursive()"
   ]
  },
  {
   "cell_type": "code",
   "execution_count": 175,
   "metadata": {
    "collapsed": false
   },
   "outputs": [
    {
     "data": {
      "text/plain": [
       "1"
      ]
     },
     "execution_count": 175,
     "metadata": {},
     "output_type": "execute_result"
    }
   ],
   "source": [
    "t.min()"
   ]
  },
  {
   "cell_type": "code",
   "execution_count": 176,
   "metadata": {
    "collapsed": false
   },
   "outputs": [
    {
     "data": {
      "text/plain": [
       "5"
      ]
     },
     "execution_count": 176,
     "metadata": {},
     "output_type": "execute_result"
    }
   ],
   "source": [
    "t.max()"
   ]
  },
  {
   "cell_type": "code",
   "execution_count": 177,
   "metadata": {
    "collapsed": false
   },
   "outputs": [
    {
     "data": {
      "text/plain": [
       "1"
      ]
     },
     "execution_count": 177,
     "metadata": {},
     "output_type": "execute_result"
    }
   ],
   "source": [
    "t.predecessor(2)"
   ]
  },
  {
   "cell_type": "code",
   "execution_count": 178,
   "metadata": {
    "collapsed": false
   },
   "outputs": [],
   "source": [
    "t.delete(3)"
   ]
  },
  {
   "cell_type": "code",
   "execution_count": 179,
   "metadata": {
    "collapsed": false
   },
   "outputs": [
    {
     "name": "stdout",
     "output_type": "stream",
     "text": [
      "1 (treesize: 1)\n",
      "2 (treesize: 4)\n",
      "4 (treesize: 1)\n",
      "5 (treesize: 2)\n"
     ]
    }
   ],
   "source": [
    "t.print()"
   ]
  },
  {
   "cell_type": "code",
   "execution_count": 133,
   "metadata": {
    "collapsed": true
   },
   "outputs": [],
   "source": [
    "t.delete(2)"
   ]
  },
  {
   "cell_type": "code",
   "execution_count": 134,
   "metadata": {
    "collapsed": false
   },
   "outputs": [
    {
     "name": "stdout",
     "output_type": "stream",
     "text": [
      "1 (treesize: 3)\n",
      "4 (treesize: 1)\n",
      "5 (treesize: 2)\n"
     ]
    }
   ],
   "source": [
    "t.print()"
   ]
  },
  {
   "cell_type": "code",
   "execution_count": 139,
   "metadata": {
    "collapsed": true
   },
   "outputs": [],
   "source": [
    "t.delete(4)"
   ]
  },
  {
   "cell_type": "code",
   "execution_count": 169,
   "metadata": {
    "collapsed": false
   },
   "outputs": [
    {
     "name": "stdout",
     "output_type": "stream",
     "text": [
      "1 (treesize: 1)\n",
      "1 (treesize: 5)\n",
      "2 (treesize: 1)\n",
      "2 (treesize: 3)\n",
      "3 (treesize: 1)\n",
      "3 (treesize: 10)\n",
      "4 (treesize: 1)\n",
      "4 (treesize: 3)\n",
      "5 (treesize: 1)\n",
      "5 (treesize: 4)\n"
     ]
    }
   ],
   "source": [
    "t.print()"
   ]
  },
  {
   "cell_type": "code",
   "execution_count": 170,
   "metadata": {
    "collapsed": false
   },
   "outputs": [
    {
     "name": "stdout",
     "output_type": "stream",
     "text": [
      "1 (treesize: 1)\n",
      "1 (treesize: 5)\n",
      "2 (treesize: 1)\n",
      "2 (treesize: 3)\n",
      "3 (treesize: 1)\n",
      "3 (treesize: 10)\n",
      "4 (treesize: 1)\n",
      "4 (treesize: 3)\n",
      "5 (treesize: 1)\n",
      "5 (treesize: 4)\n"
     ]
    }
   ],
   "source": [
    "t.print_recursive()"
   ]
  },
  {
   "cell_type": "code",
   "execution_count": 228,
   "metadata": {
    "collapsed": false
   },
   "outputs": [
    {
     "data": {
      "text/plain": [
       "False"
      ]
     },
     "execution_count": 228,
     "metadata": {},
     "output_type": "execute_result"
    }
   ],
   "source": [
    "1 < 0 < 5"
   ]
  }
 ],
 "metadata": {
  "kernelspec": {
   "display_name": "Python 3",
   "language": "python",
   "name": "python3"
  },
  "language_info": {
   "codemirror_mode": {
    "name": "ipython",
    "version": 3
   },
   "file_extension": ".py",
   "mimetype": "text/x-python",
   "name": "python",
   "nbconvert_exporter": "python",
   "pygments_lexer": "ipython3",
   "version": "3.5.0"
  }
 },
 "nbformat": 4,
 "nbformat_minor": 0
}
