{
 "cells": [
  {
   "cell_type": "code",
   "execution_count": 1,
   "metadata": {
    "collapsed": true
   },
   "outputs": [],
   "source": [
    "import random"
   ]
  },
  {
   "cell_type": "code",
   "execution_count": 2,
   "metadata": {
    "collapsed": true
   },
   "outputs": [],
   "source": [
    "def partition(r, s, e):\n",
    "    # random pivot point\n",
    "    pivot = random.randint(s, e-1)\n",
    "    r[s], r[pivot] = r[pivot], r[s]\n",
    "    i = s+1\n",
    "    for j in range(s+1, e):\n",
    "        if r[j] < r[s]:\n",
    "            r[i], r[j] = r[j], r[i]\n",
    "            i += 1\n",
    "    r[i-1], r[s] = r[s], r[i-1]\n",
    "    return i-1"
   ]
  },
  {
   "cell_type": "code",
   "execution_count": 3,
   "metadata": {
    "collapsed": true
   },
   "outputs": [],
   "source": [
    "def rselect(r, i):\n",
    "    def rsel(s, e):\n",
    "        if e - s == 1:\n",
    "            return s\n",
    "        p = partition(r, s, e)\n",
    "        if p > i:\n",
    "            return rsel(s, p)\n",
    "        if p < i:\n",
    "            return rsel(p+1, e)\n",
    "        return p\n",
    "    return rsel(0, len(r))"
   ]
  },
  {
   "cell_type": "code",
   "execution_count": 4,
   "metadata": {
    "collapsed": false
   },
   "outputs": [
    {
     "data": {
      "text/plain": [
       "500000"
      ]
     },
     "execution_count": 4,
     "metadata": {},
     "output_type": "execute_result"
    }
   ],
   "source": [
    "x = random.sample(range(10**6), 10**6)\n",
    "rselect(x, len(x) // 2)"
   ]
  }
 ],
 "metadata": {
  "kernelspec": {
   "display_name": "Python 3",
   "language": "python",
   "name": "python3"
  },
  "language_info": {
   "codemirror_mode": {
    "name": "ipython",
    "version": 3
   },
   "file_extension": ".py",
   "mimetype": "text/x-python",
   "name": "python",
   "nbconvert_exporter": "python",
   "pygments_lexer": "ipython3",
   "version": "3.5.0"
  }
 },
 "nbformat": 4,
 "nbformat_minor": 0
}
