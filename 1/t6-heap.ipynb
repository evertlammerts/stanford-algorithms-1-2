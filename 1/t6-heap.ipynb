{
 "cells": [
  {
   "cell_type": "code",
   "execution_count": 50,
   "metadata": {
    "collapsed": true
   },
   "outputs": [],
   "source": [
    "def heappush(heap, item):\n",
    "    i = len(heap)\n",
    "    heap.append(item)\n",
    "    if i > 0:\n",
    "        j = i >> 1\n",
    "        while i > 0 and heap[j] > item:\n",
    "            heap[j], heap[i] = heap[i], heap[j]\n",
    "            i, j = j, j >> 1\n",
    "\n",
    "def heappop(heap):\n",
    "    if len(heap) == 0:\n",
    "        raise IndexError()\n",
    "    if len(heap) == 1:\n",
    "        return heap.pop()\n",
    "    res, heap[0] = heap[0], heap.pop()\n",
    "    i, j = 0, 1\n",
    "    while j < len(heap):\n",
    "        minj = j+1 if j+1 < len(heap) and heap[j] >= heap[j+1] else j\n",
    "        if heap[i] <= heap[minj]:\n",
    "            break\n",
    "        heap[i], heap[minj] = heap[minj], heap[i]\n",
    "        i, j = minj, minj << 1\n",
    "    return res"
   ]
  },
  {
   "cell_type": "code",
   "execution_count": 51,
   "metadata": {
    "collapsed": false
   },
   "outputs": [],
   "source": [
    "x = list()\n",
    "heappush(x, 9)\n",
    "heappush(x, 4)\n",
    "heappush(x, 12)\n",
    "heappush(x, 9)\n",
    "heappush(x, 4)\n",
    "heappush(x, 13)\n",
    "heappush(x, 11)\n",
    "heappush(x, 8)\n",
    "heappush(x, 4)\n",
    "heappush(x, 2)"
   ]
  },
  {
   "cell_type": "code",
   "execution_count": 52,
   "metadata": {
    "collapsed": false
   },
   "outputs": [
    {
     "data": {
      "text/plain": [
       "2"
      ]
     },
     "execution_count": 52,
     "metadata": {},
     "output_type": "execute_result"
    }
   ],
   "source": [
    "heappop(x)"
   ]
  },
  {
   "cell_type": "code",
   "execution_count": 53,
   "metadata": {
    "collapsed": false
   },
   "outputs": [
    {
     "data": {
      "text/plain": [
       "[4, 4, 4, 8, 9, 13, 11, 9, 12]"
      ]
     },
     "execution_count": 53,
     "metadata": {},
     "output_type": "execute_result"
    }
   ],
   "source": [
    "x"
   ]
  }
 ],
 "metadata": {
  "kernelspec": {
   "display_name": "Python 3",
   "language": "python",
   "name": "python3"
  },
  "language_info": {
   "codemirror_mode": {
    "name": "ipython",
    "version": 3
   },
   "file_extension": ".py",
   "mimetype": "text/x-python",
   "name": "python",
   "nbconvert_exporter": "python",
   "pygments_lexer": "ipython3",
   "version": "3.5.0"
  }
 },
 "nbformat": 4,
 "nbformat_minor": 0
}
