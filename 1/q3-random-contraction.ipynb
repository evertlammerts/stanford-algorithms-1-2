{
 "cells": [
  {
   "cell_type": "code",
   "execution_count": 1,
   "metadata": {
    "collapsed": true
   },
   "outputs": [],
   "source": [
    "import random"
   ]
  },
  {
   "cell_type": "code",
   "execution_count": 2,
   "metadata": {
    "collapsed": false
   },
   "outputs": [],
   "source": [
    "class AdjecencyList:\n",
    "\n",
    "    class Vertex:\n",
    "        def __init__(self):\n",
    "            self.edges = set()\n",
    "\n",
    "        def add_edge(self, edge):\n",
    "            self.edges.add(edge)\n",
    "\n",
    "    class Edge:\n",
    "        def __init__(self, v1, v2):\n",
    "            self.vertices = set((v1, v2))\n",
    "            v1.add_edge(self)\n",
    "            v2.add_edge(self)\n",
    "\n",
    "    def __init__(self):\n",
    "        self.V = set()\n",
    "        self.E = set()\n",
    "\n",
    "    def new_vertex(self):\n",
    "        v = AdjecencyList.Vertex()\n",
    "        self.V.add(v)\n",
    "        return v\n",
    "\n",
    "    def set_edge(self, v1, v2):\n",
    "        assert v1 is not v2, 'Cycles not supported'\n",
    "        e = AdjecencyList.Edge(v1, v2)\n",
    "        self.E.add(e)\n",
    "\n",
    "    def contract(self):\n",
    "        while len(self.V) > 2:\n",
    "            e = random.choice(tuple(self.E))\n",
    "            v1, v2 = e.vertices\n",
    "            for v2edge in v2.edges:\n",
    "                if v1 in v2edge.vertices: # remove loops\n",
    "                    v1.edges.remove(v2edge)\n",
    "                    self.E.remove(v2edge)\n",
    "                else: # replace references to v2 by references to v1, and add edges to v1.edges\n",
    "                    v2edge.vertices.remove(v2)\n",
    "                    assert len(v2edge.vertices) == 1\n",
    "                    v2edge.vertices.add(v1)\n",
    "                    assert len(v2edge.vertices) == 2\n",
    "                    v1.edges.add(v2edge)\n",
    "            self.V.remove(v2) # remove vertex from vertex list\n"
   ]
  },
  {
   "cell_type": "code",
   "execution_count": 4,
   "metadata": {
    "collapsed": false,
    "scrolled": true
   },
   "outputs": [
    {
     "name": "stdout",
     "output_type": "stream",
     "text": [
      "new min: 24\n",
      "new min: 21 < 24\n",
      "new min: 20 < 21\n",
      "new min: 17 < 20\n"
     ]
    }
   ],
   "source": [
    "lines = []\n",
    "with open('kargerMinCut.txt', 'r') as fp:\n",
    "    for line in fp:\n",
    "        l = tuple(int(vi)-1 for vi in line.split())\n",
    "        lines.append(tuple(i for i in l if i >= l[0]))\n",
    "\n",
    "def run():\n",
    "    adj_list = AdjecencyList()\n",
    "    v = [adj_list.new_vertex() for _ in range(200)]\n",
    "    for line in lines:\n",
    "        for vi in line[1:]:\n",
    "            adj_list.set_edge(v[line[0]], v[vi])\n",
    "    adj_list.contract()\n",
    "    a, _ = adj_list.V\n",
    "    return len(a.edges)\n",
    "\n",
    "m = run()\n",
    "print(\"new min: %s\" % m)\n",
    "for _ in range(200): # should be N^2*LOG(n)\n",
    "    mnew = run()\n",
    "    if mnew < m:\n",
    "        print(\"new min: %s < %s\" % (mnew, m))\n",
    "        m = mnew"
   ]
  }
 ],
 "metadata": {
  "kernelspec": {
   "display_name": "Python 3",
   "language": "python",
   "name": "python3"
  },
  "language_info": {
   "codemirror_mode": {
    "name": "ipython",
    "version": 3
   },
   "file_extension": ".py",
   "mimetype": "text/x-python",
   "name": "python",
   "nbconvert_exporter": "python",
   "pygments_lexer": "ipython3",
   "version": "3.5.0"
  }
 },
 "nbformat": 4,
 "nbformat_minor": 0
}
