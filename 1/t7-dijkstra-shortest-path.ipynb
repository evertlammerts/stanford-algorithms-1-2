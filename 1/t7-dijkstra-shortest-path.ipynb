{
 "cells": [
  {
   "cell_type": "code",
   "execution_count": 2,
   "metadata": {
    "collapsed": false
   },
   "outputs": [],
   "source": [
    "from collections import defaultdict\n",
    "import zipfile\n",
    "import random"
   ]
  },
  {
   "cell_type": "code",
   "execution_count": 3,
   "metadata": {
    "collapsed": false
   },
   "outputs": [],
   "source": [
    "V = defaultdict(list)\n",
    "\n",
    "with zipfile.ZipFile('SCC.zip') as zf:\n",
    "    with zf.open('SCC.txt') as edgelist:\n",
    "        for line in edgelist:\n",
    "            l = tuple(int(vi) for vi in line.split())\n",
    "            if l[0] == l[1]:\n",
    "                continue\n",
    "            V[l[0]].append((random.randint(0, 100), l[1]))"
   ]
  },
  {
   "cell_type": "code",
   "execution_count": 12,
   "metadata": {
    "collapsed": true
   },
   "outputs": [],
   "source": [
    "def heappush(heap, item):\n",
    "    i = len(heap)\n",
    "    heap.append(item)\n",
    "    if i > 0:\n",
    "        j = i >> 1\n",
    "        while i > 0 and heap[j] > item:\n",
    "            heap[j], heap[i] = heap[i], heap[j]\n",
    "            i, j = j, j >> 1\n",
    "\n",
    "def heappop(heap):\n",
    "    if len(heap) == 0:\n",
    "        raise IndexError()\n",
    "    if len(heap) == 1:\n",
    "        return heap.pop()\n",
    "    res, heap[0] = heap[0], heap.pop()\n",
    "    i, j = 0, 1\n",
    "    while j < len(heap):\n",
    "        minj = j+1 if j+1 < len(heap) and heap[j] >= heap[j+1] else j\n",
    "        if heap[i] <= heap[minj]:\n",
    "            break\n",
    "        heap[i], heap[minj] = heap[minj], heap[i]\n",
    "        i, j = minj, minj << 1\n",
    "    return res\n",
    "\n",
    "def shortest_paths(key):\n",
    "    X = [None, ] * max(V.keys())\n",
    "    nX = list() # heap\n",
    "    X[key] = 0\n",
    "    for head in V[key]:\n",
    "        heappush(nX, head)\n",
    "    while len(nX) > 0:\n",
    "        greedy, cur = heappop(nX)\n",
    "        if X[cur] is not None:\n",
    "            continue\n",
    "        X[cur] = greedy\n",
    "        for distance, head in V[cur]:\n",
    "            if X[head] is None:\n",
    "                heappush(nX, (greedy + distance, head))\n",
    "    return X"
   ]
  },
  {
   "cell_type": "code",
   "execution_count": 7,
   "metadata": {
    "collapsed": false
   },
   "outputs": [
    {
     "data": {
      "text/plain": [
       "138104"
      ]
     },
     "execution_count": 7,
     "metadata": {},
     "output_type": "execute_result"
    }
   ],
   "source": [
    "random.choice(list(V.keys()))"
   ]
  },
  {
   "cell_type": "code",
   "execution_count": 13,
   "metadata": {
    "collapsed": false
   },
   "outputs": [],
   "source": [
    "X = shortest_paths(138104)"
   ]
  },
  {
   "cell_type": "code",
   "execution_count": 6,
   "metadata": {
    "collapsed": false
   },
   "outputs": [
    {
     "data": {
      "text/plain": [
       "[(94, 138100),\n",
       " (56, 138101),\n",
       " (25, 9259),\n",
       " (83, 138102),\n",
       " (76, 138103),\n",
       " (86, 138105),\n",
       " (36, 138106)]"
      ]
     },
     "execution_count": 6,
     "metadata": {},
     "output_type": "execute_result"
    }
   ],
   "source": [
    "V[138104]"
   ]
  },
  {
   "cell_type": "code",
   "execution_count": 15,
   "metadata": {
    "collapsed": false
   },
   "outputs": [
    {
     "data": {
      "text/plain": [
       "25"
      ]
     },
     "execution_count": 15,
     "metadata": {},
     "output_type": "execute_result"
    }
   ],
   "source": [
    "X[9259]"
   ]
  },
  {
   "cell_type": "code",
   "execution_count": 16,
   "metadata": {
    "collapsed": false
   },
   "outputs": [
    {
     "data": {
      "text/plain": [
       "[(43, 9278),\n",
       " (73, 9279),\n",
       " (33, 9280),\n",
       " (23, 9281),\n",
       " (61, 9282),\n",
       " (32, 9283),\n",
       " (24, 9284),\n",
       " (47, 9285),\n",
       " (59, 9286),\n",
       " (96, 9287),\n",
       " (66, 9288),\n",
       " (69, 9289),\n",
       " (54, 9290),\n",
       " (52, 9291),\n",
       " (64, 9292),\n",
       " (0, 9293),\n",
       " (87, 9294)]"
      ]
     },
     "execution_count": 16,
     "metadata": {},
     "output_type": "execute_result"
    }
   ],
   "source": [
    "V[9259]"
   ]
  },
  {
   "cell_type": "code",
   "execution_count": 17,
   "metadata": {
    "collapsed": false
   },
   "outputs": [
    {
     "data": {
      "text/plain": [
       "48"
      ]
     },
     "execution_count": 17,
     "metadata": {},
     "output_type": "execute_result"
    }
   ],
   "source": [
    "X[9281]"
   ]
  }
 ],
 "metadata": {
  "kernelspec": {
   "display_name": "Python 3",
   "language": "python",
   "name": "python3"
  },
  "language_info": {
   "codemirror_mode": {
    "name": "ipython",
    "version": 3
   },
   "file_extension": ".py",
   "mimetype": "text/x-python",
   "name": "python",
   "nbconvert_exporter": "python",
   "pygments_lexer": "ipython3",
   "version": "3.5.0"
  }
 },
 "nbformat": 4,
 "nbformat_minor": 0
}
