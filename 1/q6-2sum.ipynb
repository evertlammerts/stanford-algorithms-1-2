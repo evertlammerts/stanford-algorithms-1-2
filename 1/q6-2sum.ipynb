{
 "cells": [
  {
   "cell_type": "code",
   "execution_count": 1,
   "metadata": {
    "collapsed": true
   },
   "outputs": [],
   "source": [
    "with open('algo1-programming_prob-2sum.txt') as f:\n",
    "    numbers = tuple(sorted(set(int(i) for i in f)))"
   ]
  },
  {
   "cell_type": "code",
   "execution_count": 7,
   "metadata": {
    "collapsed": false
   },
   "outputs": [],
   "source": [
    "targets = set(range(-10000, 10001))\n",
    "\n",
    "iv_end = len(numbers) - 1\n",
    "\n",
    "for n in numbers:\n",
    "    least, most = -10000 - n, 10000 - n\n",
    "    while numbers[iv_end] > most:\n",
    "        iv_end -= 1\n",
    "    iv_start = iv_end\n",
    "    while numbers[iv_start] >= least:\n",
    "        if numbers[iv_start] <= n:\n",
    "            break\n",
    "        targets.discard(n + numbers[iv_start])\n",
    "        iv_start -= 1\n",
    "    else:\n",
    "        continue\n",
    "    break"
   ]
  },
  {
   "cell_type": "code",
   "execution_count": 10,
   "metadata": {
    "collapsed": false
   },
   "outputs": [
    {
     "data": {
      "text/plain": [
       "427"
      ]
     },
     "execution_count": 10,
     "metadata": {},
     "output_type": "execute_result"
    }
   ],
   "source": [
    "20001 - len(targets)"
   ]
  },
  {
   "cell_type": "code",
   "execution_count": 11,
   "metadata": {
    "collapsed": true
   },
   "outputs": [],
   "source": [
    "def heappush(heap, item):\n",
    "    i = len(heap)\n",
    "    heap.append(item)\n",
    "    if i > 0:\n",
    "        j = i >> 1\n",
    "        while i > 0 and heap[j] > item:\n",
    "            heap[j], heap[i] = heap[i], heap[j]\n",
    "            i, j = j, j >> 1\n",
    "\n",
    "def heappop(heap):\n",
    "    if len(heap) == 0:\n",
    "        raise IndexError()\n",
    "    if len(heap) == 1:\n",
    "        return heap.pop()\n",
    "    res, heap[0] = heap[0], heap.pop()\n",
    "    i, j = 0, 1\n",
    "    while j < len(heap):\n",
    "        minj = j+1 if j+1 < len(heap) and heap[j] >= heap[j+1] else j\n",
    "        if heap[i] <= heap[minj]:\n",
    "            break\n",
    "        heap[i], heap[minj] = heap[minj], heap[i]\n",
    "        i, j = minj, minj << 1\n",
    "    return res"
   ]
  },
  {
   "cell_type": "code",
   "execution_count": 37,
   "metadata": {
    "collapsed": false
   },
   "outputs": [],
   "source": [
    "minheap, maxheap = list(), list()\n",
    "\n",
    "cnt = 0\n",
    "s = 0\n",
    "\n",
    "with open('Median.txt') as f:\n",
    "    for i in f:\n",
    "        j = int(i)\n",
    "        if cnt == 0:\n",
    "            minheap.append(-j)\n",
    "        elif j <= -minheap[0]:\n",
    "            heappush(minheap, -j)\n",
    "        else:\n",
    "            heappush(maxheap, j)\n",
    "        if len(maxheap) > len(minheap):\n",
    "            heappush(minheap, -heappop(maxheap))\n",
    "        elif len(minheap) > len(maxheap) + 1:\n",
    "            heappush(maxheap, -heappop(minheap))\n",
    "        s = (s + -minheap[0]) % 10000\n",
    "        cnt += 1"
   ]
  },
  {
   "cell_type": "code",
   "execution_count": 38,
   "metadata": {
    "collapsed": false
   },
   "outputs": [
    {
     "data": {
      "text/plain": [
       "1213"
      ]
     },
     "execution_count": 38,
     "metadata": {},
     "output_type": "execute_result"
    }
   ],
   "source": [
    "s"
   ]
  }
 ],
 "metadata": {
  "kernelspec": {
   "display_name": "Python 3",
   "language": "python",
   "name": "python3"
  },
  "language_info": {
   "codemirror_mode": {
    "name": "ipython",
    "version": 3
   },
   "file_extension": ".py",
   "mimetype": "text/x-python",
   "name": "python",
   "nbconvert_exporter": "python",
   "pygments_lexer": "ipython3",
   "version": "3.5.0"
  }
 },
 "nbformat": 4,
 "nbformat_minor": 0
}
