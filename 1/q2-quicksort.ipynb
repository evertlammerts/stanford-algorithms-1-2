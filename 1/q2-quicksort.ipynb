{
 "cells": [
  {
   "cell_type": "code",
   "execution_count": 1,
   "metadata": {
    "collapsed": true
   },
   "outputs": [],
   "source": [
    "import random"
   ]
  },
  {
   "cell_type": "code",
   "execution_count": 2,
   "metadata": {
    "collapsed": true
   },
   "outputs": [],
   "source": [
    "def partition(r, s, e):\n",
    "    i = s+1\n",
    "    for j in range(s+1, e):\n",
    "        if r[j] < r[s]:\n",
    "            r[i], r[j] = r[j], r[i]\n",
    "            i += 1\n",
    "    r[i-1], r[s] = r[s], r[i-1]\n",
    "    return i-1"
   ]
  },
  {
   "cell_type": "code",
   "execution_count": 3,
   "metadata": {
    "collapsed": true
   },
   "outputs": [],
   "source": [
    "def quicksort(r, setpivot):\n",
    "    cnt = 0\n",
    "    def q(s, e):\n",
    "        nonlocal cnt\n",
    "        if e - s <= 1:\n",
    "            return\n",
    "        cnt += e - s - 1\n",
    "        setpivot(r, s, e)\n",
    "        p = partition(r, s, e)\n",
    "        q(s, p)\n",
    "        q(p+1, e)\n",
    "    q(0, len(r))\n",
    "    print(cnt)"
   ]
  },
  {
   "cell_type": "code",
   "execution_count": 17,
   "metadata": {
    "collapsed": true
   },
   "outputs": [],
   "source": [
    "def first_pivot(r, s, e):\n",
    "    pass\n",
    "\n",
    "def last_pivot(r, s, e):\n",
    "    r[s], r[e-1] = r[e-1], r[s]\n",
    "\n",
    "def mo3_pivot(r, s, e):\n",
    "    # median of three\n",
    "    if e - s >= 3:\n",
    "        middle = (e + s - 1) // 2\n",
    "        if r[s] <= r[middle] <= r[e-1] or r[e-1] <= r[middle] <= r[s]:\n",
    "            r[s], r[middle] = r[middle], r[s]\n",
    "        elif r[s] <= r[e-1] <= r[middle] or r[middle] <= r[e-1] <= r[s]:\n",
    "            r[s], r[e-1] = r[e-1], r[s]\n",
    "\n",
    "def random_pivot(r, s, e):\n",
    "    pivot = random.randint(s, e-1)\n",
    "    r[s], r[pivot] = r[pivot], r[s]"
   ]
  },
  {
   "cell_type": "code",
   "execution_count": 5,
   "metadata": {
    "collapsed": true
   },
   "outputs": [],
   "source": [
    "l = list()\n",
    "with open('QuickSort.txt', 'r') as fp:\n",
    "    for line in fp:\n",
    "        l.append(int(line))"
   ]
  },
  {
   "cell_type": "code",
   "execution_count": 18,
   "metadata": {
    "collapsed": false
   },
   "outputs": [
    {
     "name": "stdout",
     "output_type": "stream",
     "text": [
      "162085\n",
      "164123\n",
      "138382\n",
      "153340\n"
     ]
    }
   ],
   "source": [
    "for pivotfunc in first_pivot, last_pivot, mo3_pivot, random_pivot:\n",
    "    quicksort(l.copy(), pivotfunc)"
   ]
  }
 ],
 "metadata": {
  "kernelspec": {
   "display_name": "Python 3",
   "language": "python",
   "name": "python3"
  },
  "language_info": {
   "codemirror_mode": {
    "name": "ipython",
    "version": 3
   },
   "file_extension": ".py",
   "mimetype": "text/x-python",
   "name": "python",
   "nbconvert_exporter": "python",
   "pygments_lexer": "ipython3",
   "version": "3.5.0"
  }
 },
 "nbformat": 4,
 "nbformat_minor": 0
}
