{
 "cells": [
  {
   "cell_type": "code",
   "execution_count": 7,
   "metadata": {
    "collapsed": false
   },
   "outputs": [],
   "source": [
    "def knapsack(items, capacity, gcd=1):\n",
    "    # items = tuple(sorted(items, key=lambda x: (x[1], x[0])))\n",
    "    max_ai = capacity//gcd\n",
    "    a = [0]*(1+max_ai)\n",
    "    for i in range(0, len(items)):\n",
    "        value, weight = items[i]\n",
    "        offset = weight//gcd\n",
    "        for ai in range(max_ai, offset-1, -1):\n",
    "            a[ai] = max(a[ai], value + a[ai-offset])\n",
    "    return a"
   ]
  },
  {
   "cell_type": "code",
   "execution_count": 6,
   "metadata": {
    "collapsed": false
   },
   "outputs": [
    {
     "name": "stdout",
     "output_type": "stream",
     "text": [
      "[0, 2, 2, 2, 2, 2, 2]\n",
      "[0, 2, 3, 5, 5, 5, 5]\n",
      "[0, 2, 3, 5, 5, 5, 7]\n",
      "[0, 2, 3, 5, 5, 6, 7]\n",
      "[0, 2, 3, 5, 5, 6, 7]\n"
     ]
    },
    {
     "data": {
      "text/plain": [
       "[0, 2, 3, 5, 5, 6, 7]"
      ]
     },
     "execution_count": 6,
     "metadata": {},
     "output_type": "execute_result"
    }
   ],
   "source": [
    "n = ((2,1),(3,2),(2,3),(4,4),(4,5))\n",
    "knapsack(n, 6)"
   ]
  },
  {
   "cell_type": "code",
   "execution_count": 8,
   "metadata": {
    "collapsed": false
   },
   "outputs": [
    {
     "data": {
      "text/plain": [
       "2493893"
      ]
     },
     "execution_count": 8,
     "metadata": {},
     "output_type": "execute_result"
    }
   ],
   "source": [
    "# EXPECTING: 2493893\n",
    "with open('knapsack.txt') as f:\n",
    "    weight, _ = tuple(int(x) for x in f.readline()[:-1].split())\n",
    "    lines = tuple(tuple(int(i) for i in l.split()) for l in f)\n",
    "lines = tuple(sorted(lines, key=lambda x: (x[1], x[0])))\n",
    "knapsack(lines, weight)[-1]"
   ]
  },
  {
   "cell_type": "code",
   "execution_count": 9,
   "metadata": {
    "collapsed": false
   },
   "outputs": [
    {
     "data": {
      "text/plain": [
       "4243395"
      ]
     },
     "execution_count": 9,
     "metadata": {},
     "output_type": "execute_result"
    }
   ],
   "source": [
    "# EXPECTING: 4243395\n",
    "with open('knapsack_big.txt') as f:\n",
    "    weight, _ = tuple(int(x) for x in f.readline()[:-1].split())\n",
    "    lines = tuple(tuple(int(i) for i in l.split()) for l in f)\n",
    "lines = tuple(sorted(lines, key=lambda x: (x[1], x[0])))\n",
    "knapsack(lines, weight, gcd=367)[-1]"
   ]
  },
  {
   "cell_type": "code",
   "execution_count": 5,
   "metadata": {
    "collapsed": false
   },
   "outputs": [],
   "source": [
    "def  find_genes_a(dna):\n",
    "    # first fill 3 arrays with indexes of the genes we look for\n",
    "    act_indexes, agt_indexes, cgt_indexes = [], [], []\n",
    "    for i in range(len(dna)-1, 1, -1):\n",
    "        if dna[i] == 'T':\n",
    "            prefix = dna[i-2:i]\n",
    "            if prefix == 'AC':\n",
    "                act_indexes.append(i-2)\n",
    "            elif prefix == 'AG':\n",
    "                agt_indexes.append(i-2)\n",
    "            elif prefix == 'CG':\n",
    "                cgt_indexes.append(i-2)\n",
    "    # now find the minimum distance between them, if any\n",
    "    l_act, l_agt, l_cgt = len(act_indexes)-1, len(agt_indexes)-1, len(cgt_indexes)-1\n",
    "    if l_act >= 0 and l_agt >= 0 and l_cgt >= 0:\n",
    "        gene_start_index = -1\n",
    "        distance = len(dna)\n",
    "        while l_act >= 0 and l_agt >= 0 and l_cgt >= 0:\n",
    "            max_index = max(act_indexes[l_act], agt_indexes[l_agt], cgt_indexes[l_cgt])\n",
    "            min_index = min(act_indexes[l_act], agt_indexes[l_agt], cgt_indexes[l_cgt])\n",
    "            d = max_index - min_index\n",
    "            if d < distance:\n",
    "                distance = d\n",
    "                gene_start_index = min_index\n",
    "            if min_index == act_indexes[l_act]:\n",
    "                l_act -= 1\n",
    "            elif min_index == agt_indexes[l_agt]:\n",
    "                l_agt -= 1\n",
    "            elif min_index == cgt_indexes[l_cgt]:\n",
    "                l_cgt -= 1\n",
    "        return dna[gene_start_index:gene_start_index+distance+3]\n",
    "    return ''"
   ]
  },
  {
   "cell_type": "code",
   "execution_count": 33,
   "metadata": {
    "collapsed": false
   },
   "outputs": [],
   "source": [
    "def find_genes(dna):\n",
    "    search_keys = {'ACT', 'AGT', 'CGT'}\n",
    "    idxs, dist, start_idx = dict(), len(dna), -1\n",
    "    for i in range(0, len(dna)):\n",
    "        if dna[i:i+3] in search_keys:\n",
    "            idxs[dna[i:i+3]] = i\n",
    "            if len(idxs) == 3:\n",
    "                s = min(idxs.values())\n",
    "                if i - s < dist:\n",
    "                    dist, start_idx = i - s, s\n",
    "    return dna[start_idx:start_idx+dist+3] if start_idx != -1 else \"\""
   ]
  },
  {
   "cell_type": "code",
   "execution_count": 34,
   "metadata": {
    "collapsed": false
   },
   "outputs": [
    {
     "data": {
      "text/plain": [
       "'AGTAACTCGT'"
      ]
     },
     "execution_count": 34,
     "metadata": {},
     "output_type": "execute_result"
    }
   ],
   "source": [
    "find_genes(\"ACTACGTTTAGTAACTCGTCT\")"
   ]
  },
  {
   "cell_type": "code",
   "execution_count": 8,
   "metadata": {
    "collapsed": false
   },
   "outputs": [
    {
     "data": {
      "text/plain": [
       "'AGTAACTCGT'"
      ]
     },
     "execution_count": 8,
     "metadata": {},
     "output_type": "execute_result"
    }
   ],
   "source": [
    "find_genes_a(\"ACTACGTTTAGTAACTCGTCT\")"
   ]
  },
  {
   "cell_type": "code",
   "execution_count": null,
   "metadata": {
    "collapsed": true
   },
   "outputs": [],
   "source": []
  }
 ],
 "metadata": {
  "kernelspec": {
   "display_name": "Python 3",
   "language": "python",
   "name": "python3"
  },
  "language_info": {
   "codemirror_mode": {
    "name": "ipython",
    "version": 3
   },
   "file_extension": ".py",
   "mimetype": "text/x-python",
   "name": "python",
   "nbconvert_exporter": "python",
   "pygments_lexer": "ipython3",
   "version": "3.5.0"
  }
 },
 "nbformat": 4,
 "nbformat_minor": 0
}
