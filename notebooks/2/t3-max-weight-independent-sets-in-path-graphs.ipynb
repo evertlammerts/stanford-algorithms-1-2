{
 "cells": [
  {
   "cell_type": "code",
   "execution_count": 2,
   "metadata": {
    "collapsed": true
   },
   "outputs": [],
   "source": [
    "def max_WIS(pathgraph):\n",
    "    if len(pathgraph) == 0:\n",
    "        return [0]\n",
    "    a = [0, pathgraph[0]]\n",
    "    for i in range(1, len(pathgraph)):\n",
    "        a.append(max(a[i], a[i-1] + pathgraph[i]))\n",
    "    return a"
   ]
  },
  {
   "cell_type": "code",
   "execution_count": 15,
   "metadata": {
    "collapsed": false
   },
   "outputs": [
    {
     "data": {
      "text/plain": [
       "[0, 1, 2, 5, 5, 10]"
      ]
     },
     "execution_count": 15,
     "metadata": {},
     "output_type": "execute_result"
    }
   ],
   "source": [
    "max_WIS([1,2,4,1,5])"
   ]
  },
  {
   "cell_type": "code",
   "execution_count": 3,
   "metadata": {
    "collapsed": true
   },
   "outputs": [],
   "source": [
    "def reconstruct_WIS(a, pathgraph):\n",
    "    wis = list()\n",
    "    i = len(pathgraph)-1\n",
    "    while i > 0:\n",
    "        if a[i] >= a[i-1] + pathgraph[i]:\n",
    "            i -= 1\n",
    "        else:\n",
    "            wis.append(pathgraph[i])\n",
    "            i -= 2\n",
    "    if i == 0:\n",
    "        wis.append(pathgraph[0])\n",
    "    return wis"
   ]
  },
  {
   "cell_type": "code",
   "execution_count": 8,
   "metadata": {
    "collapsed": false
   },
   "outputs": [
    {
     "data": {
      "text/plain": [
       "[5, 3]"
      ]
     },
     "execution_count": 8,
     "metadata": {},
     "output_type": "execute_result"
    }
   ],
   "source": [
    "p = [1,3,6,5]\n",
    "reconstruct_WIS(max_WIS(p), p)"
   ]
  },
  {
   "cell_type": "code",
   "execution_count": 16,
   "metadata": {
    "collapsed": false
   },
   "outputs": [
    {
     "name": "stdout",
     "output_type": "stream",
     "text": [
      "0\n",
      "0.5\n",
      "1\n",
      "1.5\n",
      "2\n",
      "2.5\n",
      "3\n",
      "3.5\n",
      "4\n",
      "4.5\n"
     ]
    }
   ],
   "source": [
    "class MedianFinder: # for Leetcode\n",
    "    def __init__(self):\n",
    "        \"\"\"\n",
    "        Initialize your data structure here.\n",
    "        \"\"\"\n",
    "        self.minheap = list()\n",
    "        self.maxheap = list()\n",
    "\n",
    "\n",
    "    def _minheappush(self, item):\n",
    "        heap = self.minheap # readability and locality of reference\n",
    "        i, j = len(heap), len(heap) >> 1\n",
    "        heap.append(item)\n",
    "        while i > 0 and heap[j] > heap[i]:\n",
    "            heap[j], heap[i] = heap[i], heap[j]\n",
    "            i, j = j, j >> 1\n",
    "\n",
    "\n",
    "    def _minheappop(self):\n",
    "        heap = self.minheap # readability and locality of reference\n",
    "        if len(heap) <= 1:\n",
    "            return heap.pop() # IndexError if len == 0 is fine for heappop()\n",
    "        res, heap[0] = heap[0], heap.pop()\n",
    "        i, j, l = 0, 1, len(heap)\n",
    "        while j < l:\n",
    "            smallest = j\n",
    "            try:\n",
    "                if heap[j] > heap[j+1]:\n",
    "                    smallest = j + 1\n",
    "            except IndexError:\n",
    "                pass\n",
    "            if heap[smallest] >= heap[i]:\n",
    "                break\n",
    "            heap[smallest], heap[i] = heap[i], heap[smallest]\n",
    "            i, j = smallest, smallest << 1\n",
    "        return res\n",
    "\n",
    "    def _maxheappush(self, item):\n",
    "        heap = self.maxheap # readbility and locality of reference\n",
    "        i, j = len(heap), len(heap) >> 1\n",
    "        heap.append(item)\n",
    "        while i > 0 and heap[j] < heap[i]:\n",
    "            heap[j], heap[i] = heap[i], heap[j]\n",
    "            i, j = j, j >> 1\n",
    "\n",
    "\n",
    "    def _maxheappop(self):\n",
    "        heap = self.maxheap # readability and locality of reference\n",
    "        if len(heap) <= 1:\n",
    "            return heap.pop() # IndexError if len == 0 is fine for heappop()\n",
    "        res, heap[0] = heap[0], heap.pop()\n",
    "        i, j, l = 0, 1, len(heap)\n",
    "        while j < l:\n",
    "            largest = j\n",
    "            try:\n",
    "                if heap[j] < heap[j+1]:\n",
    "                    largest = j + 1\n",
    "            except IndexError:\n",
    "                pass\n",
    "            if heap[largest] <= heap[i]:\n",
    "                break\n",
    "            heap[largest], heap[i] = heap[i], heap[largest]\n",
    "            i, j = largest, largest << 1\n",
    "        return res\n",
    "\n",
    "\n",
    "    def addNum(self, num):\n",
    "        \"\"\"\n",
    "        Adds a num into the data structure.\n",
    "        :type num: int\n",
    "        :rtype: void\n",
    "        \"\"\"\n",
    "        if len(self.maxheap) == 0 or num <= self.maxheap[0]:\n",
    "            self._maxheappush(num)\n",
    "        else:\n",
    "            self._minheappush(num)\n",
    "        diff = len(self.minheap) - len(self.maxheap)\n",
    "        if diff > 1:\n",
    "            self._maxheappush(self._minheappop())\n",
    "        elif diff < -1:\n",
    "            self._minheappush(self._maxheappop())\n",
    "\n",
    "    def findMedian(self):\n",
    "        \"\"\"\n",
    "        Returns the median of current data stream\n",
    "        :rtype: float\n",
    "        \"\"\"\n",
    "        minheap, maxheap = self.minheap, self.maxheap\n",
    "        lmin, lmax = len(minheap), len(maxheap)\n",
    "        if lmin > lmax:\n",
    "            return minheap[0]\n",
    "        if lmax > lmin:\n",
    "            return maxheap[0]\n",
    "        return (maxheap[0] + minheap[0])/2.0\n"
   ]
  },
  {
   "cell_type": "code",
   "execution_count": 42,
   "metadata": {
    "collapsed": false
   },
   "outputs": [],
   "source": [
    "n = [.05, .4, .08, .04, .1, .1, .23]\n",
    "a = [[0]*7,[0]*7,[0]*7,[0]*7,[0]*7,[0]*7,[0]*7]\n",
    "for s in range(0, 7):\n",
    "    for i in range(0, 7-s):\n",
    "        p = sum(n[i:i+s+1])\n",
    "        choose = list()\n",
    "        for r in range(i, i+s+1):\n",
    "            left  = a[i][r-1] if i <= r-1 else 0\n",
    "            right = a[r+1][i+s] if r+1 <= i+s else 0\n",
    "            choose.append(p + left + right)\n",
    "        a[i][i+s] = min(choose)"
   ]
  },
  {
   "cell_type": "code",
   "execution_count": 43,
   "metadata": {
    "collapsed": false
   },
   "outputs": [
    {
     "data": {
      "text/plain": [
       "[[0.05, 0.5, 0.66, 0.7800000000000001, 1.1, 1.4, 2.1799999999999997],\n",
       " [0, 0.4, 0.56, 0.68, 1.0, 1.2999999999999998, 2.06],\n",
       " [0, 0, 0.08, 0.16, 0.38, 0.58, 1.13],\n",
       " [0, 0, 0, 0.04, 0.18000000000000002, 0.38, 0.8500000000000001],\n",
       " [0, 0, 0, 0, 0.1, 0.30000000000000004, 0.7300000000000001],\n",
       " [0, 0, 0, 0, 0, 0.1, 0.43000000000000005],\n",
       " [0, 0, 0, 0, 0, 0, 0.23]]"
      ]
     },
     "execution_count": 43,
     "metadata": {},
     "output_type": "execute_result"
    }
   ],
   "source": [
    "a"
   ]
  }
 ],
 "metadata": {
  "kernelspec": {
   "display_name": "Python 3",
   "language": "python",
   "name": "python3"
  },
  "language_info": {
   "codemirror_mode": {
    "name": "ipython",
    "version": 3
   },
   "file_extension": ".py",
   "mimetype": "text/x-python",
   "name": "python",
   "nbconvert_exporter": "python",
   "pygments_lexer": "ipython3",
   "version": "3.5.0"
  }
 },
 "nbformat": 4,
 "nbformat_minor": 0
}
