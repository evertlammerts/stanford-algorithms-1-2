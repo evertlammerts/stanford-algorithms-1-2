{
 "cells": [
  {
   "cell_type": "code",
   "execution_count": 52,
   "metadata": {
    "collapsed": false
   },
   "outputs": [
    {
     "name": "stdout",
     "output_type": "stream",
     "text": [
      "500 2184 V / E\n"
     ]
    }
   ],
   "source": [
    "edges = tuple()\n",
    "vertexes = dict()\n",
    "with open('edges.txt') as f:\n",
    "    print(\"{} V / E\".format(f.readline()[:-1]))\n",
    "    for line in f:\n",
    "        uid, vid, c = (int(x) for x in line.split())\n",
    "        vertexes[uid] = (uid, 0) # parent, rank\n",
    "        vertexes[vid] = (vid, 0) # parent, rank\n",
    "        edges += ((c, uid, vid),)\n",
    "edges = tuple(sorted(edges))"
   ]
  },
  {
   "cell_type": "code",
   "execution_count": 53,
   "metadata": {
    "collapsed": false
   },
   "outputs": [],
   "source": [
    "t = list()\n",
    "\n",
    "def find(vid):\n",
    "    p = vertexes[vid][0]\n",
    "    while vertexes[p][0] != p:\n",
    "        p = vertexes[p][0]\n",
    "    return p\n",
    "\n",
    "def union(edge):\n",
    "    uroot = find(edge[1])\n",
    "    vroot = find(edge[2])\n",
    "    if uroot != vroot:\n",
    "        t.append(edge)\n",
    "        if vertexes[uroot][1] > vertexes[vroot][1]:\n",
    "            vertexes[vroot] = (uroot, vertexes[vroot][1])\n",
    "            vertexes[edge[1]] = (uroot, vertexes[edge[1]][1])\n",
    "            vertexes[edge[2]] = (uroot, vertexes[edge[2]][1])\n",
    "        elif vertexes[uroot][1] < vertexes[vroot][1]:\n",
    "            vertexes[uroot] = (vroot, vertexes[uroot][1])\n",
    "            vertexes[edge[1]] = (vroot, vertexes[edge[1]][1])\n",
    "            vertexes[edge[2]] = (vroot, vertexes[edge[2]][1])\n",
    "        else:\n",
    "            vertexes[vroot] = (uroot, vertexes[vroot][1])\n",
    "            vertexes[uroot] = (uroot, vertexes[uroot][1] + 1)\n",
    "            vertexes[edge[1]] = (uroot, vertexes[edge[1]][1])\n",
    "            vertexes[edge[2]] = (uroot, vertexes[edge[2]][1])"
   ]
  },
  {
   "cell_type": "code",
   "execution_count": 54,
   "metadata": {
    "collapsed": false
   },
   "outputs": [],
   "source": [
    "for e in edges:\n",
    "    union(e)"
   ]
  },
  {
   "cell_type": "code",
   "execution_count": 55,
   "metadata": {
    "collapsed": false
   },
   "outputs": [
    {
     "data": {
      "text/plain": [
       "-3612829"
      ]
     },
     "execution_count": 55,
     "metadata": {},
     "output_type": "execute_result"
    }
   ],
   "source": [
    "sum(x[0] for x in t)"
   ]
  },
  {
   "cell_type": "code",
   "execution_count": 5,
   "metadata": {
    "collapsed": false
   },
   "outputs": [
    {
     "name": "stdout",
     "output_type": "stream",
     "text": [
      "500 2184 V / E\n"
     ]
    }
   ],
   "source": [
    "edges = tuple()\n",
    "vertexes = dict()\n",
    "with open('edges.txt') as f:\n",
    "    print(\"{} V / E\".format(f.readline()[:-1]))\n",
    "    for line in f:\n",
    "        uid, vid, c = (int(x) for x in line.split())\n",
    "        vertexes[uid] = (uid, 0) # parent, rank\n",
    "        vertexes[vid] = (vid, 0) # parent, rank\n",
    "        edges += ((c, uid, vid),)\n",
    "edges = tuple(sorted(edges))"
   ]
  },
  {
   "cell_type": "code",
   "execution_count": 6,
   "metadata": {
    "collapsed": false
   },
   "outputs": [],
   "source": [
    "t = list()\n",
    "k = len(vertexes)\n",
    "\n",
    "def find(vid):\n",
    "    p = vertexes[vid][0]\n",
    "    while vertexes[p][0] != p:\n",
    "        p = vertexes[p][0]\n",
    "    return p\n",
    "\n",
    "def union(edge):\n",
    "    global k\n",
    "    uroot = find(edge[1])\n",
    "    vroot = find(edge[2])\n",
    "    if uroot != vroot:\n",
    "        t.append(edge)\n",
    "        if vertexes[uroot][1] > vertexes[vroot][1]:\n",
    "            vertexes[vroot] = (uroot, vertexes[vroot][1])\n",
    "            vertexes[edge[1]] = (uroot, vertexes[edge[1]][1])\n",
    "            vertexes[edge[2]] = (uroot, vertexes[edge[2]][1])\n",
    "        elif vertexes[uroot][1] < vertexes[vroot][1]:\n",
    "            vertexes[uroot] = (vroot, vertexes[uroot][1])\n",
    "            vertexes[edge[1]] = (vroot, vertexes[edge[1]][1])\n",
    "            vertexes[edge[2]] = (vroot, vertexes[edge[2]][1])\n",
    "        else:\n",
    "            vertexes[vroot] = (uroot, vertexes[vroot][1])\n",
    "            vertexes[uroot] = (uroot, vertexes[uroot][1] + 1)\n",
    "            vertexes[edge[1]] = (uroot, vertexes[edge[1]][1])\n",
    "            vertexes[edge[2]] = (uroot, vertexes[edge[2]][1])\n",
    "        k -= 1"
   ]
  },
  {
   "cell_type": "code",
   "execution_count": 7,
   "metadata": {
    "collapsed": false
   },
   "outputs": [],
   "source": [
    "for e in edges:\n",
    "    if k <= 4:\n",
    "        break\n",
    "    union(e)"
   ]
  },
  {
   "cell_type": "code",
   "execution_count": 19,
   "metadata": {
    "collapsed": false
   },
   "outputs": [
    {
     "data": {
      "text/plain": [
       "((5, (5, 0)), (21, (21, 0)), (23, (23, 0)), (102, (102, 4)))"
      ]
     },
     "execution_count": 19,
     "metadata": {},
     "output_type": "execute_result"
    }
   ],
   "source": [
    "tuple((v, vertexes[v]) for v in vertexes if vertexes[v][0] == v)"
   ]
  }
 ],
 "metadata": {
  "kernelspec": {
   "display_name": "Python 3",
   "language": "python",
   "name": "python3"
  },
  "language_info": {
   "codemirror_mode": {
    "name": "ipython",
    "version": 3
   },
   "file_extension": ".py",
   "mimetype": "text/x-python",
   "name": "python",
   "nbconvert_exporter": "python",
   "pygments_lexer": "ipython3",
   "version": "3.5.0"
  }
 },
 "nbformat": 4,
 "nbformat_minor": 0
}
