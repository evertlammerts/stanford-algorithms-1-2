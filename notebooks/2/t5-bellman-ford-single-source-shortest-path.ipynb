{
 "cells": [
  {
   "cell_type": "code",
   "execution_count": 1,
   "metadata": {
    "collapsed": true
   },
   "outputs": [],
   "source": [
    "e = ((1, 2, 4),\n",
    "     (1, 3, 2),\n",
    "     (2, 5, 4),\n",
    "     (3, 2, 1),\n",
    "     (3, 4, 2),\n",
    "     (4, 5, 2))"
   ]
  },
  {
   "cell_type": "code",
   "execution_count": 2,
   "metadata": {
    "collapsed": false
   },
   "outputs": [],
   "source": [
    "g = dict()\n",
    "for edge in e:\n",
    "    if edge[0] not in g:\n",
    "        g[edge[0]] = (dict(), dict()) # tails, heads\n",
    "    if edge[1] not in g:\n",
    "        g[edge[1]] = (dict(), dict()) # tails, heads\n",
    "    g[edge[0]][1][edge[1]] = edge[2]\n",
    "    g[edge[1]][0][edge[0]] = edge[2]"
   ]
  },
  {
   "cell_type": "code",
   "execution_count": 3,
   "metadata": {
    "collapsed": false
   },
   "outputs": [
    {
     "data": {
      "text/plain": [
       "{1: ({}, {2: 4, 3: 2}),\n",
       " 2: ({1: 4, 3: 1}, {5: 4}),\n",
       " 3: ({1: 2}, {2: 1, 4: 2}),\n",
       " 4: ({3: 2}, {5: 2}),\n",
       " 5: ({2: 4, 4: 2}, {})}"
      ]
     },
     "execution_count": 3,
     "metadata": {},
     "output_type": "execute_result"
    }
   ],
   "source": [
    "g"
   ]
  },
  {
   "cell_type": "code",
   "execution_count": 71,
   "metadata": {
    "collapsed": false
   },
   "outputs": [],
   "source": [
    "s, v, n = 1, g.keys(), len(g)\n",
    "a = [{s: 0}, dict()]\n",
    "for i in range(1, n):\n",
    "    ii, changed = i % 2, False\n",
    "    for vertex in v:\n",
    "        if vertex != s and len(g[vertex][0]) > 0:\n",
    "            prev = a[ii-1][vertex] if vertex in a[ii-1] else None\n",
    "            try:\n",
    "                new = min(a[ii-1][x] + g[vertex][0][x] for x in g[vertex][0] if x in a[ii-1])\n",
    "            except ValueError:\n",
    "                new = None\n",
    "            if prev is not None and new is not None:\n",
    "                a[ii][vertex] = min(new, prev)\n",
    "                changed = True\n",
    "            elif new is not None:\n",
    "                a[ii][vertex] = new\n",
    "                changed = True\n",
    "            elif prev is not None:\n",
    "                a[ii][vertex] = prev\n",
    "    if not changed:\n",
    "        break"
   ]
  },
  {
   "cell_type": "code",
   "execution_count": 72,
   "metadata": {
    "collapsed": false
   },
   "outputs": [
    {
     "data": {
      "text/plain": [
       "{1: 0, 2: 3, 3: 2, 4: 4, 5: 6}"
      ]
     },
     "execution_count": 72,
     "metadata": {},
     "output_type": "execute_result"
    }
   ],
   "source": [
    "a[(n-1)%2]"
   ]
  },
  {
   "cell_type": "code",
   "execution_count": 5,
   "metadata": {
    "collapsed": false
   },
   "outputs": [
    {
     "data": {
      "text/plain": [
       "({1: 0, 2: 3, 3: 2, 4: 4, 5: 6}, {2: 3, 3: 1, 4: 3, 5: 4})"
      ]
     },
     "execution_count": 5,
     "metadata": {},
     "output_type": "execute_result"
    }
   ],
   "source": [
    "s, v, n = 1, g.keys(), len(g)\n",
    "a, b = [{s: 0}, {s: 0}], dict()\n",
    "inf_dist = (float(\"inf\"), None)\n",
    "for i in range(1, n+1):\n",
    "    ii, changed = i % 2, False\n",
    "    for vertex in v:\n",
    "        if len(g[vertex][0]) > 0:\n",
    "            prev = (a[ii-1][vertex], b[vertex]) if vertex in a[ii-1] else inf_dist\n",
    "            new = min((inf_dist, *[(a[ii-1][x] + g[vertex][0][x], x) for x in g[vertex][0] if x in a[ii-1]]))\n",
    "            path_suf = min(new, prev)\n",
    "            if path_suf[1] is not None:\n",
    "                a[ii][vertex], b[vertex] = path_suf\n",
    "                if path_suf != prev:\n",
    "                    changed = True\n",
    "    if not changed:\n",
    "        break\n",
    "if i == n and changed:\n",
    "    print('Negative loop!')\n",
    "a[(n-1)%2], b"
   ]
  },
  {
   "cell_type": "code",
   "execution_count": 28,
   "metadata": {
    "collapsed": false
   },
   "outputs": [
    {
     "data": {
      "text/plain": [
       "1"
      ]
     },
     "execution_count": 28,
     "metadata": {},
     "output_type": "execute_result"
    }
   ],
   "source": [
    "min((1,2))"
   ]
  },
  {
   "cell_type": "code",
   "execution_count": 30,
   "metadata": {
    "collapsed": false
   },
   "outputs": [
    {
     "data": {
      "text/plain": [
       "[{1: 0, 2: 3, 3: 2, 4: 4, 5: 6}, {2: 3, 3: 2, 4: 4, 5: 6}]"
      ]
     },
     "execution_count": 30,
     "metadata": {},
     "output_type": "execute_result"
    }
   ],
   "source": [
    "a"
   ]
  },
  {
   "cell_type": "code",
   "execution_count": 78,
   "metadata": {
    "collapsed": false
   },
   "outputs": [
    {
     "data": {
      "text/plain": [
       "({1: 0, 2: 3, 3: 2, 4: 4, 5: 6}, {2: 3, 3: 1, 4: 3, 5: 4})"
      ]
     },
     "execution_count": 78,
     "metadata": {},
     "output_type": "execute_result"
    }
   ],
   "source": [
    "a[(n-1)%2], b"
   ]
  }
 ],
 "metadata": {
  "kernelspec": {
   "display_name": "Python 3",
   "language": "python",
   "name": "python3"
  },
  "language_info": {
   "codemirror_mode": {
    "name": "ipython",
    "version": 3
   },
   "file_extension": ".py",
   "mimetype": "text/x-python",
   "name": "python",
   "nbconvert_exporter": "python",
   "pygments_lexer": "ipython3",
   "version": "3.5.0"
  }
 },
 "nbformat": 4,
 "nbformat_minor": 0
}
