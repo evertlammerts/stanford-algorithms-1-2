{
 "cells": [
  {
   "cell_type": "code",
   "execution_count": 1,
   "metadata": {
    "collapsed": true
   },
   "outputs": [],
   "source": [
    "import heapq"
   ]
  },
  {
   "cell_type": "code",
   "execution_count": 2,
   "metadata": {
    "collapsed": true
   },
   "outputs": [],
   "source": [
    "def add_task_difference(h, w, d): # duration, weight / priority\n",
    "    heapq.heappush(h, (-(w-d), -w, d))\n",
    "\n",
    "def add_task_proportion(h, w, d): # duration, weight / priority\n",
    "    heapq.heappush(h, (-w/d, -w, d))\n",
    "\n",
    "def sumup(h):\n",
    "    d = 0\n",
    "    s = 0\n",
    "    while len(h) > 0:\n",
    "        _, tw, td = heapq.heappop(h)\n",
    "        d += td\n",
    "        s += d * -tw\n",
    "    print(s)"
   ]
  },
  {
   "cell_type": "code",
   "execution_count": 5,
   "metadata": {
    "collapsed": false
   },
   "outputs": [
    {
     "name": "stdout",
     "output_type": "stream",
     "text": [
      "Reading 10000 records\n"
     ]
    }
   ],
   "source": [
    "h1, h2 = list(), list()\n",
    "with open('jobs.txt') as f:\n",
    "    print(\"Reading {} records\".format(f.readline()[:-1]))\n",
    "    for line in f:\n",
    "        w, d = (int(x) for x in line.split())\n",
    "        add_task_difference(h1, w, d)\n",
    "        add_task_proportion(h2, w, d)"
   ]
  },
  {
   "cell_type": "code",
   "execution_count": 6,
   "metadata": {
    "collapsed": false
   },
   "outputs": [
    {
     "name": "stdout",
     "output_type": "stream",
     "text": [
      "69119377652\n",
      "67311454237\n"
     ]
    }
   ],
   "source": [
    "sumup(h1)\n",
    "sumup(h2)"
   ]
  },
  {
   "cell_type": "code",
   "execution_count": 7,
   "metadata": {
    "collapsed": false
   },
   "outputs": [],
   "source": [
    "class Vertex:\n",
    "\n",
    "    __slots__ = ('name', 'weight', 'incident_edges', 'heapidx')\n",
    "\n",
    "    def __init__(self, name):\n",
    "        self.name = name\n",
    "        self.weight = (None, float('inf'))\n",
    "        self.incident_edges = tuple()\n",
    "        self.heapidx = None\n",
    "\n",
    "    def connect(self, other, cost):\n",
    "        self.incident_edges += ((other, cost),)\n",
    "\n",
    "    def __lt__(self, other):\n",
    "        return self.weight[1] < other.weight[1]\n",
    "\n",
    "    def __le__(self, other):\n",
    "        return self.weight[1] <= other.weight[1]\n",
    "\n",
    "    def __gt__(self, other):\n",
    "        return self.weight[1] > other.weight[1]\n",
    "\n",
    "    def __ge__(self, other):\n",
    "        return self.weight[1] >= other.weight[1]\n",
    "\n",
    "    def __hash__(self):\n",
    "        return hash(self.name)\n",
    "\n",
    "\n",
    "class Graph:\n",
    "    def __init__(self):\n",
    "        self.V = dict()\n",
    "\n",
    "    def heappush_vertex(self, h, v):\n",
    "        j = len(h)\n",
    "        i = j >> 1\n",
    "        h.append(v)\n",
    "        v.heapidx = j\n",
    "        while j != 0 and h[j] < h[i]:\n",
    "            h[j], h[i] = h[i], h[j]\n",
    "            h[j].heapidx, h[i].heapidx = j, i\n",
    "            j, i = i, i >> 1\n",
    "\n",
    "    def heappop_vertex(self, heap, idx=0):\n",
    "        if idx >= len(heap):\n",
    "            raise IndexError('Not enough elements in heap')\n",
    "        if idx == len(heap) - 1:\n",
    "            return heap.pop()\n",
    "        res, heap[idx] = heap[idx], heap.pop()\n",
    "        heap[idx].heapidx = idx\n",
    "        i, j = idx, idx + 1 if idx == 0 else idx << 1\n",
    "        while j < len(heap):\n",
    "            minj = j+1 if j+1 < len(heap) and heap[j] >= heap[j+1] else j\n",
    "            if heap[i] <= heap[minj]:\n",
    "                break\n",
    "            heap[i], heap[minj] = heap[minj], heap[i]\n",
    "            heap[minj].heapidx, heap[i].heapidx = minj, i\n",
    "            i, j = minj, minj << 1\n",
    "        return res\n",
    "\n",
    "    def edge(self, u, v, c):\n",
    "        if u not in self.V:\n",
    "            self.V[u] = Vertex(u)\n",
    "        if v not in self.V:\n",
    "            self.V[v] = Vertex(v)\n",
    "        self.V[u].connect(self.V[v], c)\n",
    "        self.V[v].connect(self.V[u], c)\n",
    "\n",
    "    def mst(self):\n",
    "        vheap = list()\n",
    "        x = set()\n",
    "        for k in self.V:\n",
    "            self.V[k].weight = (None, float('inf'))\n",
    "            self.heappush_vertex(vheap, self.V[k])\n",
    "        while len(x) != len(self.V):\n",
    "            u = self.heappop_vertex(vheap)\n",
    "            x.add(u)\n",
    "            for (v, c) in u.incident_edges:\n",
    "                if v not in x and c < v.weight[1]:\n",
    "                    v.weight = (u, c)\n",
    "                    self.heappush_vertex(vheap, self.heappop_vertex(vheap, v.heapidx))\n",
    "        return {u.weight for u in x}"
   ]
  },
  {
   "cell_type": "code",
   "execution_count": 11,
   "metadata": {
    "collapsed": false
   },
   "outputs": [
    {
     "name": "stdout",
     "output_type": "stream",
     "text": [
      "500 2184 V / E\n"
     ]
    }
   ],
   "source": [
    "G = Graph()\n",
    "with open('edges.txt') as f:\n",
    "    print(\"{} V / E\".format(f.readline()[:-1]))\n",
    "    for line in f:\n",
    "        u, v, c = line.split()\n",
    "        G.edge(int(u), int(v), int(c))"
   ]
  },
  {
   "cell_type": "code",
   "execution_count": 12,
   "metadata": {
    "collapsed": false
   },
   "outputs": [],
   "source": [
    "t = G.mst()"
   ]
  },
  {
   "cell_type": "code",
   "execution_count": 10,
   "metadata": {
    "collapsed": false
   },
   "outputs": [
    {
     "data": {
      "text/plain": [
       "-3612829"
      ]
     },
     "execution_count": 10,
     "metadata": {},
     "output_type": "execute_result"
    }
   ],
   "source": [
    "sum(e[1] for e in t if e[0] is not None)"
   ]
  },
  {
   "cell_type": "code",
   "execution_count": 13,
   "metadata": {
    "collapsed": false
   },
   "outputs": [
    {
     "data": {
      "text/plain": [
       "-3612829"
      ]
     },
     "execution_count": 13,
     "metadata": {},
     "output_type": "execute_result"
    }
   ],
   "source": [
    "sum(e[1] for e in t if e[0] is not None)"
   ]
  }
 ],
 "metadata": {
  "kernelspec": {
   "display_name": "Python 3",
   "language": "python",
   "name": "python3"
  },
  "language_info": {
   "codemirror_mode": {
    "name": "ipython",
    "version": 3
   },
   "file_extension": ".py",
   "mimetype": "text/x-python",
   "name": "python",
   "nbconvert_exporter": "python",
   "pygments_lexer": "ipython3",
   "version": "3.5.0"
  }
 },
 "nbformat": 4,
 "nbformat_minor": 0
}
