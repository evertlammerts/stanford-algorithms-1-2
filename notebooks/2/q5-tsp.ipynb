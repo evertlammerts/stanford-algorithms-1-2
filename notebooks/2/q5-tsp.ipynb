{
 "cells": [
  {
   "cell_type": "code",
   "execution_count": 21,
   "metadata": {
    "collapsed": true
   },
   "outputs": [],
   "source": [
    "Point = complex\n",
    "City = Point\n",
    "\n",
    "def X(point): \n",
    "    \"The x coordinate of a point.\"\n",
    "    return point.real\n",
    "\n",
    "def Y(point): \n",
    "    \"The y coordinate of a point.\"\n",
    "    return point.imag\n",
    "\n",
    "def distance(A, B): \n",
    "    \"The distance between two points.\"\n",
    "    return abs(A - B)\n",
    "\n",
    "def memo(numcities):\n",
    "    return collections.defaultdict(lambda: [float('inf')]*numcities)"
   ]
  },
  {
   "cell_type": "code",
   "execution_count": 57,
   "metadata": {
    "collapsed": false
   },
   "outputs": [],
   "source": [
    "import itertools\n",
    "import collections\n",
    "\n",
    "def cities():\n",
    "    with open('tsp.txt') as file:\n",
    "        print(\"Loading {} cities\".format(file.readline()[:-1]))\n",
    "        return tuple(City(*[float(x) for x in line.split()]) for line in file)\n",
    "\n",
    "def distances(cities):\n",
    "    return {a: {b: distance(a, b) for b in cities if b != a} for a in cities}\n",
    "\n",
    "def tsp(cities):\n",
    "    n = len(cities)\n",
    "    dists = distances(cities)\n",
    "    a = [memo(n), memo(n)]\n",
    "    a[0][(0,)][0] = 0\n",
    "    for tourlen in range(1, n): # 1-24 inclusive\n",
    "        print(\"Checking tours with length {}\".format(tourlen))\n",
    "        i = tourlen % 2\n",
    "        a[i] = memo(n)\n",
    "        for incl_cities in itertools.combinations(range(1,n), r=tourlen):\n",
    "            incl_cities = (0,) + incl_cities\n",
    "            memo_ic = a[i][incl_cities]\n",
    "            for dest_idx in range(tourlen+1):\n",
    "                cities_wo_dest = tuple(incl_cities[:dest_idx] + incl_cities[dest_idx+1:])\n",
    "                memo_wd = a[i-1][cities_wo_dest]\n",
    "                dists_dest = dists[cities[incl_cities[dest_idx]]]\n",
    "                memo_ic[incl_cities[dest_idx]] = min( memo_wd[k] + dists_dest[cities[k]] for k in cities_wo_dest )\n",
    "    return a[i][tuple(range(n))]\n",
    "\n",
    "def tsp_(cities):\n",
    "    n, count = len(cities), 0\n",
    "    for tourlen in range(1, n): # 1-24 inclusive\n",
    "        for incl_cities in itertools.combinations(range(1,n), r=tourlen):\n",
    "            for dest_idx in range(tourlen+1):\n",
    "                for k in range(tourlen):\n",
    "                    count += 1\n",
    "    return count"
   ]
  },
  {
   "cell_type": "code",
   "execution_count": 51,
   "metadata": {
    "collapsed": false
   },
   "outputs": [
    {
     "name": "stdout",
     "output_type": "stream",
     "text": [
      "Checking tours with length 1\n",
      "Checking tours with length 2\n",
      "Checking tours with length 3\n",
      "Checking tours with length 4\n"
     ]
    },
    {
     "data": {
      "text/plain": [
       "[inf,\n",
       " 11.423668705363431,\n",
       " 12.349878388032021,\n",
       " 10.22677276241436,\n",
       " 12.89544699709128]"
      ]
     },
     "execution_count": 51,
     "metadata": {},
     "output_type": "execute_result"
    }
   ],
   "source": [
    "cities = (City(3,5),City(7,6),City(5,5),City(2,9),City(4,7))\n",
    "tsp(cities)"
   ]
  },
  {
   "cell_type": "code",
   "execution_count": 58,
   "metadata": {
    "collapsed": false
   },
   "outputs": [
    {
     "name": "stdout",
     "output_type": "stream",
     "text": [
      "Loading 25 cities\n",
      "Checking tours with length 1\n",
      "Checking tours with length 2\n",
      "Checking tours with length 3\n",
      "Checking tours with length 4\n",
      "Checking tours with length 5\n",
      "Checking tours with length 6\n",
      "Checking tours with length 7\n",
      "Checking tours with length 8\n",
      "Checking tours with length 9\n",
      "Checking tours with length 10\n",
      "Checking tours with length 11\n",
      "Checking tours with length 12\n",
      "Checking tours with length 13\n",
      "Checking tours with length 14\n",
      "Checking tours with length 15\n",
      "Checking tours with length 16\n",
      "Checking tours with length 17\n",
      "Checking tours with length 18\n",
      "Checking tours with length 19\n",
      "Checking tours with length 20\n",
      "Checking tours with length 21\n",
      "Checking tours with length 22\n",
      "Checking tours with length 23\n",
      "Checking tours with length 24\n"
     ]
    },
    {
     "data": {
      "text/plain": [
       "[inf,\n",
       " 26368.19469479763,\n",
       " 23894.07061691474,\n",
       " 24443.081606817646,\n",
       " 24175.81857759471,\n",
       " 25488.79584633222,\n",
       " 24658.706194531165,\n",
       " 23997.777089788415,\n",
       " 24218.39202367309,\n",
       " 23595.374299944273,\n",
       " 23543.159951284248,\n",
       " 24117.015616768822,\n",
       " 24081.9172548674,\n",
       " 24076.837114237984,\n",
       " 23068.304368103654,\n",
       " 23022.006855503376,\n",
       " 23892.476381813965,\n",
       " 23778.321223931147,\n",
       " 23743.66386882029,\n",
       " 24106.673096376042,\n",
       " 23665.97727985054,\n",
       " 23897.598233028544,\n",
       " 23816.395844157196,\n",
       " 22809.88674790288,\n",
       " 22965.821776656823]"
      ]
     },
     "execution_count": 58,
     "metadata": {},
     "output_type": "execute_result"
    }
   ],
   "source": [
    "import random\n",
    "import cProfile\n",
    "c = tuple(City(random.randint(0, 1000), random.randint(0, 1000)) for _ in range(24))\n",
    "\n",
    "tsp(cities())\n",
    "#cProfile.run('tsp(c)')"
   ]
  },
  {
   "cell_type": "code",
   "execution_count": 59,
   "metadata": {
    "collapsed": true
   },
   "outputs": [],
   "source": [
    "res = _58"
   ]
  },
  {
   "cell_type": "code",
   "execution_count": 60,
   "metadata": {
    "collapsed": false
   },
   "outputs": [
    {
     "data": {
      "text/plain": [
       "[inf,\n",
       " 26368.19469479763,\n",
       " 23894.07061691474,\n",
       " 24443.081606817646,\n",
       " 24175.81857759471,\n",
       " 25488.79584633222,\n",
       " 24658.706194531165,\n",
       " 23997.777089788415,\n",
       " 24218.39202367309,\n",
       " 23595.374299944273,\n",
       " 23543.159951284248,\n",
       " 24117.015616768822,\n",
       " 24081.9172548674,\n",
       " 24076.837114237984,\n",
       " 23068.304368103654,\n",
       " 23022.006855503376,\n",
       " 23892.476381813965,\n",
       " 23778.321223931147,\n",
       " 23743.66386882029,\n",
       " 24106.673096376042,\n",
       " 23665.97727985054,\n",
       " 23897.598233028544,\n",
       " 23816.395844157196,\n",
       " 22809.88674790288,\n",
       " 22965.821776656823]"
      ]
     },
     "execution_count": 60,
     "metadata": {},
     "output_type": "execute_result"
    }
   ],
   "source": [
    "res"
   ]
  },
  {
   "cell_type": "code",
   "execution_count": 64,
   "metadata": {
    "collapsed": false
   },
   "outputs": [
    {
     "name": "stdout",
     "output_type": "stream",
     "text": [
      "Loading 25 cities\n"
     ]
    }
   ],
   "source": [
    "c = cities()\n",
    "d = distances(c)[c[0]]"
   ]
  },
  {
   "cell_type": "code",
   "execution_count": 70,
   "metadata": {
    "collapsed": false
   },
   "outputs": [
    {
     "data": {
      "text/plain": [
       "26442.730308954753"
      ]
     },
     "execution_count": 70,
     "metadata": {},
     "output_type": "execute_result"
    }
   ],
   "source": [
    "min(d[c[i]] + res[i] for i in range(1, 25))"
   ]
  }
 ],
 "metadata": {
  "kernelspec": {
   "display_name": "Python 3",
   "language": "python",
   "name": "python3"
  },
  "language_info": {
   "codemirror_mode": {
    "name": "ipython",
    "version": 3
   },
   "file_extension": ".py",
   "mimetype": "text/x-python",
   "name": "python",
   "nbconvert_exporter": "python",
   "pygments_lexer": "ipython3",
   "version": "3.5.0"
  }
 },
 "nbformat": 4,
 "nbformat_minor": 0
}
