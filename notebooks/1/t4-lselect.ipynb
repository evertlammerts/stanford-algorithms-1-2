{
 "cells": [
  {
   "cell_type": "code",
   "execution_count": 1,
   "metadata": {
    "collapsed": true
   },
   "outputs": [],
   "source": [
    "import random"
   ]
  },
  {
   "cell_type": "code",
   "execution_count": 22,
   "metadata": {
    "collapsed": true
   },
   "outputs": [],
   "source": [
    "def pivot(r, s, e):\n",
    "\n",
    "    def p(a):\n",
    "        if len(a) <= 5:\n",
    "            a.sort()\n",
    "            return a[(len(a) - 1) >> 1]\n",
    "        partitions, i = list(), 0\n",
    "        while i < len(a):\n",
    "            partitions.append(a[i:i+5])\n",
    "            partitions[-1].sort()\n",
    "            i += 5\n",
    "        medians = [prt[(len(prt) - 1) >> 1] for prt in partitions]\n",
    "        return p(medians)\n",
    "\n",
    "    pvt = p(r[s:e])\n",
    "    for i in range(s, e):\n",
    "        if r[i] == pvt:\n",
    "            return i\n",
    "\n",
    "def partition(r, s, e):\n",
    "    # median of medians\n",
    "    p = pivot(r, s, e)\n",
    "    r[s], r[p] = r[p], r[s]\n",
    "    i = s+1\n",
    "    for j in range(s+1, e):\n",
    "        if r[j] < r[s]:\n",
    "            r[i], r[j] = r[j], r[i]\n",
    "            i += 1\n",
    "    r[i-1], r[s] = r[s], r[i-1]\n",
    "    return i-1"
   ]
  },
  {
   "cell_type": "code",
   "execution_count": 3,
   "metadata": {
    "collapsed": true
   },
   "outputs": [],
   "source": [
    "def rselect(r, i):\n",
    "    def rsel(s, e):\n",
    "        if e - s == 1:\n",
    "            return s\n",
    "        p = partition(r, s, e)\n",
    "        if p > i:\n",
    "            return rsel(s, p)\n",
    "        if p < i:\n",
    "            return rsel(p+1, e)\n",
    "        return p\n",
    "    return rsel(0, len(r))"
   ]
  },
  {
   "cell_type": "code",
   "execution_count": 20,
   "metadata": {
    "collapsed": false
   },
   "outputs": [
    {
     "data": {
      "text/plain": [
       "500000"
      ]
     },
     "execution_count": 20,
     "metadata": {},
     "output_type": "execute_result"
    }
   ],
   "source": [
    "x = random.sample(range(10**6), 10**6)\n",
    "rselect(x, len(x) // 2)"
   ]
  },
  {
   "cell_type": "code",
   "execution_count": 8,
   "metadata": {
    "collapsed": false
   },
   "outputs": [
    {
     "ename": "NameError",
     "evalue": "name 'sort' is not defined",
     "output_type": "error",
     "traceback": [
      "\u001b[0;31m---------------------------------------------------------------------------\u001b[0m",
      "\u001b[0;31mNameError\u001b[0m                                 Traceback (most recent call last)",
      "\u001b[0;32m<ipython-input-8-256e71107374>\u001b[0m in \u001b[0;36m<module>\u001b[0;34m()\u001b[0m\n\u001b[0;32m----> 1\u001b[0;31m \u001b[0msort\u001b[0m\u001b[0;34m(\u001b[0m\u001b[0;34m[\u001b[0m\u001b[0;36m53\u001b[0m\u001b[0;34m,\u001b[0m\u001b[0;36m6\u001b[0m\u001b[0;34m,\u001b[0m\u001b[0;36m4\u001b[0m\u001b[0;34m,\u001b[0m\u001b[0;36m11\u001b[0m\u001b[0;34m]\u001b[0m\u001b[0;34m)\u001b[0m\u001b[0;34m\u001b[0m\u001b[0m\n\u001b[0m",
      "\u001b[0;31mNameError\u001b[0m: name 'sort' is not defined"
     ]
    }
   ],
   "source": [
    "sort([53,6,4,11])"
   ]
  }
 ],
 "metadata": {
  "kernelspec": {
   "display_name": "Python 3",
   "language": "python",
   "name": "python3"
  },
  "language_info": {
   "codemirror_mode": {
    "name": "ipython",
    "version": 3
   },
   "file_extension": ".py",
   "mimetype": "text/x-python",
   "name": "python",
   "nbconvert_exporter": "python",
   "pygments_lexer": "ipython3",
   "version": "3.5.0"
  }
 },
 "nbformat": 4,
 "nbformat_minor": 0
}
