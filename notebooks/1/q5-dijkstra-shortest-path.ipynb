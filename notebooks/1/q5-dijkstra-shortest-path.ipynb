{
 "cells": [
  {
   "cell_type": "code",
   "execution_count": 1,
   "metadata": {
    "collapsed": false
   },
   "outputs": [],
   "source": [
    "from collections import defaultdict\n",
    "\n",
    "V = defaultdict(list)\n",
    "\n",
    "with open('dijkstraData.txt') as edgelist:\n",
    "    for line in edgelist:\n",
    "        l = tuple(x.split(',') for x in line.split())\n",
    "        V[int(l[0][0])].extend(((int(i[1]), int(i[0])) for i in l[1:]))"
   ]
  },
  {
   "cell_type": "code",
   "execution_count": 2,
   "metadata": {
    "collapsed": true
   },
   "outputs": [],
   "source": [
    "def heappush(heap, item):\n",
    "    i = len(heap)\n",
    "    heap.append(item)\n",
    "    if i > 0:\n",
    "        j = i >> 1\n",
    "        while i > 0 and heap[j] > item:\n",
    "            heap[j], heap[i] = heap[i], heap[j]\n",
    "            i, j = j, j >> 1\n",
    "\n",
    "def heappop(heap):\n",
    "    if len(heap) == 0:\n",
    "        raise IndexError()\n",
    "    if len(heap) == 1:\n",
    "        return heap.pop()\n",
    "    res, heap[0] = heap[0], heap.pop()\n",
    "    i, j = 0, 1\n",
    "    while j < len(heap):\n",
    "        minj = j+1 if j+1 < len(heap) and heap[j] >= heap[j+1] else j\n",
    "        if heap[i] <= heap[minj]:\n",
    "            break\n",
    "        heap[i], heap[minj] = heap[minj], heap[i]\n",
    "        i, j = minj, minj << 1\n",
    "    return res\n",
    "\n",
    "def shortest_paths(key):\n",
    "    X = [None, ] * (max(V.keys()) + 1)\n",
    "    nX = list() # heap\n",
    "    X[key] = 0\n",
    "    for head in V[key]:\n",
    "        heappush(nX, head)\n",
    "    while len(nX) > 0:\n",
    "        greedy, cur = heappop(nX)\n",
    "        if X[cur] is not None:\n",
    "            continue\n",
    "        X[cur] = greedy\n",
    "        for distance, head in V[cur]:\n",
    "            try:\n",
    "                if X[head] is None:\n",
    "                    heappush(nX, (greedy + distance, head))\n",
    "            except IndexError:\n",
    "                print(head)\n",
    "                raise\n",
    "    return X"
   ]
  },
  {
   "cell_type": "code",
   "execution_count": 3,
   "metadata": {
    "collapsed": false
   },
   "outputs": [],
   "source": [
    "X = shortest_paths(1)"
   ]
  },
  {
   "cell_type": "code",
   "execution_count": 4,
   "metadata": {
    "collapsed": false
   },
   "outputs": [
    {
     "data": {
      "text/plain": [
       "[2599, 2610, 2947, 2052, 2367, 2399, 2029, 2442, 2505, 3068]"
      ]
     },
     "execution_count": 4,
     "metadata": {},
     "output_type": "execute_result"
    }
   ],
   "source": [
    "list(X[i] for i in (7,37,59,82,99,115,133,165,188,197))"
   ]
  }
 ],
 "metadata": {
  "kernelspec": {
   "display_name": "Python 3",
   "language": "python",
   "name": "python3"
  },
  "language_info": {
   "codemirror_mode": {
    "name": "ipython",
    "version": 3
   },
   "file_extension": ".py",
   "mimetype": "text/x-python",
   "name": "python",
   "nbconvert_exporter": "python",
   "pygments_lexer": "ipython3",
   "version": "3.5.0"
  }
 },
 "nbformat": 4,
 "nbformat_minor": 0
}
