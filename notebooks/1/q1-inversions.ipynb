{
 "cells": [
  {
   "cell_type": "code",
   "execution_count": 1,
   "metadata": {
    "collapsed": false
   },
   "outputs": [],
   "source": [
    "def numInversions(l):\n",
    "    def recurse(l, ia, e):\n",
    "        if e - ia == 1:\n",
    "            return 0\n",
    "        pivot = (ia + e) // 2\n",
    "        return recurse(l, ia, pivot) + recurse(l, pivot, e) + merge(l, ia, pivot, e)\n",
    "    return recurse(l, 0, len(l))\n",
    "        \n",
    "\n",
    "def merge(l, ia, ib, e):\n",
    "    r = list()\n",
    "    cnt = 0\n",
    "    start = ia\n",
    "    maxia, maxib = ib - 1, e - 1\n",
    "    while True:\n",
    "        if l[ib] < l[ia]:\n",
    "            r.append(l[ib])\n",
    "            cnt += (maxia - ia) + 1\n",
    "            if ib == maxib:\n",
    "                r.extend(l[ia:maxia+1])\n",
    "                break\n",
    "            ib += 1\n",
    "        else:\n",
    "            r.append(l[ia])\n",
    "            if ia == maxia:\n",
    "                r.extend(l[ib:maxib+1])\n",
    "                break\n",
    "            ia += 1\n",
    "    l[start:e] = r\n",
    "    return cnt"
   ]
  },
  {
   "cell_type": "code",
   "execution_count": 2,
   "metadata": {
    "collapsed": false
   },
   "outputs": [
    {
     "data": {
      "text/plain": [
       "2407905288"
      ]
     },
     "execution_count": 2,
     "metadata": {},
     "output_type": "execute_result"
    }
   ],
   "source": [
    "l = list()\n",
    "with open('IntegerArray.txt', 'r') as fp:\n",
    "    for line in fp:\n",
    "        l.append(int(line))\n",
    "numInversions(l)"
   ]
  }
 ],
 "metadata": {
  "kernelspec": {
   "display_name": "Python 3",
   "language": "python",
   "name": "python3"
  },
  "language_info": {
   "codemirror_mode": {
    "name": "ipython",
    "version": 3
   },
   "file_extension": ".py",
   "mimetype": "text/x-python",
   "name": "python",
   "nbconvert_exporter": "python",
   "pygments_lexer": "ipython3",
   "version": "3.6.1"
  }
 },
 "nbformat": 4,
 "nbformat_minor": 2
}
