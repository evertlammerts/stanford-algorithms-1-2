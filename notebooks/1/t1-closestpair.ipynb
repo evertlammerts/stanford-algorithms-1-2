{
 "cells": [
  {
   "cell_type": "code",
   "execution_count": 1,
   "metadata": {
    "collapsed": false
   },
   "outputs": [
    {
     "data": {
      "text/html": [
       "\n",
       "    <div class=\"bk-banner\">\n",
       "        <a href=\"http://bokeh.pydata.org\" target=\"_blank\" class=\"bk-logo bk-logo-small bk-logo-notebook\"></a>\n",
       "        <span id=\"2c59da6a-a601-40fc-a80e-16cff54742fe\">Loading BokehJS ...</span>\n",
       "    </div>"
      ]
     },
     "metadata": {},
     "output_type": "display_data"
    },
    {
     "data": {
      "application/javascript": [
       "\n",
       "(function(global) {\n",
       "  function now() {\n",
       "    return new Date();\n",
       "  }\n",
       "\n",
       "  if (typeof (window._bokeh_onload_callbacks) === \"undefined\") {\n",
       "    window._bokeh_onload_callbacks = [];\n",
       "  }\n",
       "\n",
       "  function run_callbacks() {\n",
       "    window._bokeh_onload_callbacks.forEach(function(callback) { callback() });\n",
       "    delete window._bokeh_onload_callbacks\n",
       "    console.info(\"Bokeh: all callbacks have finished\");\n",
       "  }\n",
       "\n",
       "  function load_libs(js_urls, callback) {\n",
       "    window._bokeh_onload_callbacks.push(callback);\n",
       "    if (window._bokeh_is_loading > 0) {\n",
       "      console.log(\"Bokeh: BokehJS is being loaded, scheduling callback at\", now());\n",
       "      return null;\n",
       "    }\n",
       "    if (js_urls == null || js_urls.length === 0) {\n",
       "      run_callbacks();\n",
       "      return null;\n",
       "    }\n",
       "    console.log(\"Bokeh: BokehJS not loaded, scheduling load and callback at\", now());\n",
       "    window._bokeh_is_loading = js_urls.length;\n",
       "    for (var i = 0; i < js_urls.length; i++) {\n",
       "      var url = js_urls[i];\n",
       "      var s = document.createElement('script');\n",
       "      s.src = url;\n",
       "      s.async = false;\n",
       "      s.onreadystatechange = s.onload = function() {\n",
       "        window._bokeh_is_loading--;\n",
       "        if (window._bokeh_is_loading === 0) {\n",
       "          console.log(\"Bokeh: all BokehJS libraries loaded\");\n",
       "          run_callbacks()\n",
       "        }\n",
       "      };\n",
       "      s.onerror = function() {\n",
       "        console.warn(\"failed to load library \" + url);\n",
       "      };\n",
       "      console.log(\"Bokeh: injecting script tag for BokehJS library: \", url);\n",
       "      document.getElementsByTagName(\"head\")[0].appendChild(s);\n",
       "    }\n",
       "  };\n",
       "\n",
       "  var js_urls = ['https://cdn.pydata.org/bokeh/release/bokeh-0.11.1.min.js', 'https://cdn.pydata.org/bokeh/release/bokeh-widgets-0.11.1.min.js', 'https://cdn.pydata.org/bokeh/release/bokeh-compiler-0.11.1.min.js'];\n",
       "\n",
       "  var inline_js = [\n",
       "    function(Bokeh) {\n",
       "      Bokeh.set_log_level(\"info\");\n",
       "    },\n",
       "    \n",
       "    function(Bokeh) {\n",
       "      Bokeh.$(\"#2c59da6a-a601-40fc-a80e-16cff54742fe\").text(\"BokehJS successfully loaded\");\n",
       "    },\n",
       "    function(Bokeh) {\n",
       "      console.log(\"Bokeh: injecting CSS: https://cdn.pydata.org/bokeh/release/bokeh-0.11.1.min.css\");\n",
       "      Bokeh.embed.inject_css(\"https://cdn.pydata.org/bokeh/release/bokeh-0.11.1.min.css\");\n",
       "      console.log(\"Bokeh: injecting CSS: https://cdn.pydata.org/bokeh/release/bokeh-widgets-0.11.1.min.css\");\n",
       "      Bokeh.embed.inject_css(\"https://cdn.pydata.org/bokeh/release/bokeh-widgets-0.11.1.min.css\");\n",
       "    }\n",
       "  ];\n",
       "\n",
       "  function run_inline_js() {\n",
       "    for (var i = 0; i < inline_js.length; i++) {\n",
       "      inline_js[i](window.Bokeh);\n",
       "    }\n",
       "  }\n",
       "\n",
       "  if (window._bokeh_is_loading === 0) {\n",
       "    console.log(\"Bokeh: BokehJS loaded, going straight to plotting\");\n",
       "    run_inline_js();\n",
       "  } else {\n",
       "    load_libs(js_urls, function() {\n",
       "      console.log(\"Bokeh: BokehJS plotting callback run at\", now());\n",
       "      run_inline_js();\n",
       "    });\n",
       "  }\n",
       "}(this));"
      ]
     },
     "metadata": {},
     "output_type": "display_data"
    }
   ],
   "source": [
    "%matplotlib inline\n",
    "%config InlineBackend.figure_formats = {'svg',}\n",
    "\n",
    "import matplotlib.pyplot as plt\n",
    "import bokeh.io\n",
    "import bokeh.mpl\n",
    "import bokeh.plotting\n",
    "\n",
    "bokeh.io.output_notebook()"
   ]
  },
  {
   "cell_type": "code",
   "execution_count": 2,
   "metadata": {
    "collapsed": true
   },
   "outputs": [],
   "source": [
    "import seaborn as sns\n",
    "rc = {'lines.linewidth': 2, \n",
    "      'axes.labelsize': 18, \n",
    "      'axes.titlesize': 18, \n",
    "      'axes.facecolor': 'DFDFE5'}\n",
    "sns.set_context('notebook', rc=rc)\n",
    "sns.set_style('darkgrid', rc=rc)"
   ]
  },
  {
   "cell_type": "code",
   "execution_count": 3,
   "metadata": {
    "collapsed": true
   },
   "outputs": [],
   "source": [
    "import random\n",
    "\n",
    "def points(num=10**4):\n",
    "\n",
    "    def remdups(idx):\n",
    "        i = 1\n",
    "        while True:\n",
    "            try:\n",
    "                while p[i][idx] == p[i+1][idx]:\n",
    "                    del p[i+1]\n",
    "            except IndexError:\n",
    "                break\n",
    "            i += 1\n",
    "\n",
    "    assert num > 1, 'num must be larger than 1'\n",
    "\n",
    "    p = [(random.randint(1, 100000), random.randint(1, 100000)) for _ in range(num)]\n",
    "    p.sort()\n",
    "    remdups(0)\n",
    "    p.sort(key=lambda x: x[1])\n",
    "    remdups(1)\n",
    "\n",
    "    py = p.copy()\n",
    "    p.sort()\n",
    "\n",
    "    return p, py"
   ]
  },
  {
   "cell_type": "code",
   "execution_count": 4,
   "metadata": {
    "collapsed": false,
    "scrolled": true
   },
   "outputs": [],
   "source": [
    "def closest_pair(px, py):\n",
    "\n",
    "    def d(p1, p2):\n",
    "        \"\"\"Euclidean distance function\"\"\"\n",
    "        return ((p1[0] - p2[0])**2 + (p1[1] - p2[1])**2)**0.5\n",
    "\n",
    "    def closest_split_pair(pivot, delta):\n",
    "        \"\"\"Finds the closest pair split between `q` and `r` closer than\n",
    "        `delta` in constant time\"\"\"\n",
    "        closest = None\n",
    "        # we only look at points with pivot - delta <= x <= pivot + delta\n",
    "        l, r = pivot - delta, pivot + delta\n",
    "        s = [p for p in py if p[0] >= l and p[0] <= r]\n",
    "        len_s = len(s)\n",
    "        # now we check the distance between each 7 consecutive points\n",
    "        for i in range(len_s):\n",
    "            j = i + 1\n",
    "            while j < len_s and j <= i+7:\n",
    "                dist = d(s[i], s[j])\n",
    "                if dist < delta:\n",
    "                    closest, delta = (s[i], s[j]), dist\n",
    "                j += 1\n",
    "        return delta, closest\n",
    "\n",
    "    # Pivot point\n",
    "    n = len(px) >> 1\n",
    "\n",
    "    # if we're small enough, we can just return the smallest distance\n",
    "    if n <= 4:\n",
    "        delta, closest = None, None\n",
    "        for i in range(len(px)):\n",
    "            for j in range(i + 1, len(px)):\n",
    "                dist = d(px[i], px[j])\n",
    "                if delta is None or dist < delta:\n",
    "                    closest, delta = (px[i], px[j]), dist\n",
    "        return delta, closest\n",
    "\n",
    "    # otherwise we recurse left and right, and find the closest split pairs\n",
    "    qx = px[:n]\n",
    "    qy = [p for p in py if p[0] <= qx[-1][0]]\n",
    "    rx = px[n:]\n",
    "    ry = [p for p in py if p[0] >= rx[0][0]]\n",
    "\n",
    "    qc = closest_pair(qx, qy)\n",
    "    rc = closest_pair(rx, ry)\n",
    "    sc = closest_split_pair(qx[-1][0], min(qc[0], rc[0]))\n",
    "    if sc[1] is not None:\n",
    "        return min(qc, rc, sc)\n",
    "    return min(qc, rc)\n",
    "    "
   ]
  },
  {
   "cell_type": "code",
   "execution_count": 20,
   "metadata": {
    "collapsed": false
   },
   "outputs": [
    {
     "data": {
      "text/plain": [
       "(10273.299177966152, ((63931, 53118), (54211, 56444)))"
      ]
     },
     "execution_count": 20,
     "metadata": {},
     "output_type": "execute_result"
    }
   ],
   "source": [
    "px, py = points(10)\n",
    "closest_pair(px, py)"
   ]
  },
  {
   "cell_type": "code",
   "execution_count": 21,
   "metadata": {
    "collapsed": false
   },
   "outputs": [
    {
     "data": {
      "text/html": [
       "\n",
       "\n",
       "    <div class=\"plotdiv\" id=\"e73559e0-3100-41f7-8a35-454231aa8759\"></div>\n",
       "<script type=\"text/javascript\">\n",
       "  \n",
       "  (function(global) {\n",
       "    function now() {\n",
       "      return new Date();\n",
       "    }\n",
       "  \n",
       "    if (typeof (window._bokeh_onload_callbacks) === \"undefined\") {\n",
       "      window._bokeh_onload_callbacks = [];\n",
       "    }\n",
       "  \n",
       "    function run_callbacks() {\n",
       "      window._bokeh_onload_callbacks.forEach(function(callback) { callback() });\n",
       "      delete window._bokeh_onload_callbacks\n",
       "      console.info(\"Bokeh: all callbacks have finished\");\n",
       "    }\n",
       "  \n",
       "    function load_libs(js_urls, callback) {\n",
       "      window._bokeh_onload_callbacks.push(callback);\n",
       "      if (window._bokeh_is_loading > 0) {\n",
       "        console.log(\"Bokeh: BokehJS is being loaded, scheduling callback at\", now());\n",
       "        return null;\n",
       "      }\n",
       "      if (js_urls == null || js_urls.length === 0) {\n",
       "        run_callbacks();\n",
       "        return null;\n",
       "      }\n",
       "      console.log(\"Bokeh: BokehJS not loaded, scheduling load and callback at\", now());\n",
       "      window._bokeh_is_loading = js_urls.length;\n",
       "      for (var i = 0; i < js_urls.length; i++) {\n",
       "        var url = js_urls[i];\n",
       "        var s = document.createElement('script');\n",
       "        s.src = url;\n",
       "        s.async = false;\n",
       "        s.onreadystatechange = s.onload = function() {\n",
       "          window._bokeh_is_loading--;\n",
       "          if (window._bokeh_is_loading === 0) {\n",
       "            console.log(\"Bokeh: all BokehJS libraries loaded\");\n",
       "            run_callbacks()\n",
       "          }\n",
       "        };\n",
       "        s.onerror = function() {\n",
       "          console.warn(\"failed to load library \" + url);\n",
       "        };\n",
       "        console.log(\"Bokeh: injecting script tag for BokehJS library: \", url);\n",
       "        document.getElementsByTagName(\"head\")[0].appendChild(s);\n",
       "      }\n",
       "    };var element = document.getElementById(\"e73559e0-3100-41f7-8a35-454231aa8759\");\n",
       "    if (element == null) {\n",
       "      console.log(\"Bokeh: ERROR: autoload.js configured with elementid 'e73559e0-3100-41f7-8a35-454231aa8759' but no matching script tag was found. \")\n",
       "      return false;\n",
       "    }\n",
       "  \n",
       "    var js_urls = [];\n",
       "  \n",
       "    var inline_js = [\n",
       "      function(Bokeh) {\n",
       "        Bokeh.$(function() {\n",
       "            var docs_json = {\"bf1b0c39-5a4e-40b6-ac39-e8899f00ec88\":{\"roots\":{\"references\":[{\"attributes\":{\"callback\":null,\"column_names\":[\"name\"],\"data\":{\"name\":\"ax_end\"}},\"id\":\"0ee06179-a2b1-4cf7-bbbe-e07cc204d3c8\",\"type\":\"ColumnDataSource\"},{\"attributes\":{\"callback\":null},\"id\":\"37ab9d77-5f0e-48a4-80a0-dedad61c4fb7\",\"type\":\"DataRange1d\"},{\"attributes\":{\"data_source\":{\"id\":\"720dd994-00b2-4acc-b2cb-26cb5e078ce4\",\"type\":\"ColumnDataSource\"},\"glyph\":{\"id\":\"5c7ef50f-116c-45ec-be75-bd413b9cf52b\",\"type\":\"Circle\"},\"hover_glyph\":null,\"nonselection_glyph\":null,\"selection_glyph\":null},\"id\":\"3aa8d2e1-e867-430b-9253-33f138fb6497\",\"type\":\"GlyphRenderer\"},{\"attributes\":{},\"id\":\"107a8c74-4b5d-4ddf-a593-36a295b6b765\",\"type\":\"BasicTickFormatter\"},{\"attributes\":{\"axis_label_text_color\":{\"value\":\"black\"},\"axis_label_text_font\":\"Comic Sans MS, Textile, cursive\",\"axis_label_text_font_size\":{\"value\":\"18.000000pt\"},\"axis_label_text_font_style\":\"bold\",\"axis_line_width\":{\"value\":3},\"formatter\":{\"id\":\"107a8c74-4b5d-4ddf-a593-36a295b6b765\",\"type\":\"BasicTickFormatter\"},\"major_label_text_color\":{\"value\":\"black\"},\"major_label_text_font\":\"Comic Sans MS, Textile, cursive\",\"major_label_text_font_size\":{\"value\":\"10.000000pt\"},\"major_label_text_font_style\":\"bold\",\"plot\":{\"id\":\"29d16cea-7d08-4c5b-b85d-e7153ff3211f\",\"type\":\"Plot\"},\"ticker\":{\"id\":\"c52b94a2-07d4-4b9b-9eeb-ed5f6583f4bd\",\"type\":\"BasicTicker\"}},\"id\":\"fab1e5ea-b6af-45d3-8230-8ad0e6368b1b\",\"type\":\"LinearAxis\"},{\"attributes\":{\"grid_line_color\":{\"value\":\"white\"},\"plot\":{\"id\":\"29d16cea-7d08-4c5b-b85d-e7153ff3211f\",\"type\":\"Plot\"},\"ticker\":{\"id\":\"c52b94a2-07d4-4b9b-9eeb-ed5f6583f4bd\",\"type\":\"BasicTicker\"}},\"id\":\"465d3351-216d-490c-b0dc-f08a8555afb4\",\"type\":\"Grid\"},{\"attributes\":{\"callback\":null,\"column_names\":[\"Series 0\",\"Series 1\"],\"data\":{\"Series 0\":[3069.0,42765.0,44548.0,54211.0,57023.0,63931.0,78256.0,79679.0,96033.0,96264.0],\"Series 1\":[88991.0,11074.0,34265.0,56444.0,45281.0,53118.0,79514.0,52280.0,11066.0,56381.0]}},\"id\":\"720dd994-00b2-4acc-b2cb-26cb5e078ce4\",\"type\":\"ColumnDataSource\"},{\"attributes\":{},\"id\":\"8ba51148-775c-4a7e-8b65-e0689847646b\",\"type\":\"X\"},{\"attributes\":{\"data_source\":{\"id\":\"0ee06179-a2b1-4cf7-bbbe-e07cc204d3c8\",\"type\":\"ColumnDataSource\"},\"glyph\":{\"id\":\"8ba51148-775c-4a7e-8b65-e0689847646b\",\"type\":\"X\"},\"hover_glyph\":null,\"nonselection_glyph\":null,\"selection_glyph\":null},\"id\":\"8bf458ef-26b0-45d4-a1f4-b57b38c0100c\",\"type\":\"GlyphRenderer\"},{\"attributes\":{\"plot\":{\"id\":\"29d16cea-7d08-4c5b-b85d-e7153ff3211f\",\"type\":\"Plot\"}},\"id\":\"38f057f9-d418-483e-877a-b4d05cd61b78\",\"type\":\"ResetTool\"},{\"attributes\":{\"plot\":{\"id\":\"29d16cea-7d08-4c5b-b85d-e7153ff3211f\",\"type\":\"Plot\"}},\"id\":\"9b6abe8a-2371-48f5-a691-05d610fc0901\",\"type\":\"WheelZoomTool\"},{\"attributes\":{\"axis_label_text_color\":{\"value\":\"black\"},\"axis_label_text_font\":\"Comic Sans MS, Textile, cursive\",\"axis_label_text_font_size\":{\"value\":\"18.000000pt\"},\"axis_label_text_font_style\":\"bold\",\"axis_line_width\":{\"value\":3},\"formatter\":{\"id\":\"dab9d04e-e87f-490a-9de5-31b23dd9ddeb\",\"type\":\"BasicTickFormatter\"},\"major_label_text_color\":{\"value\":\"black\"},\"major_label_text_font\":\"Comic Sans MS, Textile, cursive\",\"major_label_text_font_size\":{\"value\":\"10.000000pt\"},\"major_label_text_font_style\":\"bold\",\"plot\":{\"id\":\"29d16cea-7d08-4c5b-b85d-e7153ff3211f\",\"type\":\"Plot\"},\"ticker\":{\"id\":\"f91ba86c-b3eb-4d09-a230-df9eefe8d671\",\"type\":\"BasicTicker\"}},\"id\":\"90d945d0-00b6-42a6-b065-0a243040d34d\",\"type\":\"LinearAxis\"},{\"attributes\":{\"dimension\":1,\"grid_line_color\":{\"value\":\"white\"},\"plot\":{\"id\":\"29d16cea-7d08-4c5b-b85d-e7153ff3211f\",\"type\":\"Plot\"},\"ticker\":{\"id\":\"f91ba86c-b3eb-4d09-a230-df9eefe8d671\",\"type\":\"BasicTicker\"}},\"id\":\"fbd104ed-d44f-4127-a2df-7b111236a93c\",\"type\":\"Grid\"},{\"attributes\":{\"plot\":{\"id\":\"29d16cea-7d08-4c5b-b85d-e7153ff3211f\",\"type\":\"Plot\"}},\"id\":\"f96770f5-69ef-4832-98fc-4e1a012b88a7\",\"type\":\"HelpTool\"},{\"attributes\":{\"plot\":{\"id\":\"29d16cea-7d08-4c5b-b85d-e7153ff3211f\",\"type\":\"Plot\"}},\"id\":\"b1200e92-b575-4cfc-8c02-90a29c3e34ec\",\"type\":\"PanTool\"},{\"attributes\":{\"plot\":{\"id\":\"29d16cea-7d08-4c5b-b85d-e7153ff3211f\",\"type\":\"Plot\"}},\"id\":\"2f67feb9-6efd-47b1-8422-1b67797ef08d\",\"type\":\"PreviewSaveTool\"},{\"attributes\":{},\"id\":\"dab9d04e-e87f-490a-9de5-31b23dd9ddeb\",\"type\":\"BasicTickFormatter\"},{\"attributes\":{},\"id\":\"07090640-a917-4102-864a-3936f7ffe3b3\",\"type\":\"ToolEvents\"},{\"attributes\":{\"overlay\":{\"id\":\"c730576f-06a2-4286-8220-ff0f8d2e4bee\",\"type\":\"BoxAnnotation\"},\"plot\":{\"id\":\"29d16cea-7d08-4c5b-b85d-e7153ff3211f\",\"type\":\"Plot\"}},\"id\":\"65a451f7-5927-4f38-861e-c742beeab61b\",\"type\":\"BoxZoomTool\"},{\"attributes\":{\"fill_color\":{\"value\":\"#FF0000\"},\"line_color\":{\"value\":\"#000000\"},\"line_width\":{\"value\":0.0},\"size\":{\"units\":\"screen\",\"value\":7.0},\"x\":{\"field\":\"Series 0\"},\"y\":{\"field\":\"Series 1\"}},\"id\":\"5c7ef50f-116c-45ec-be75-bd413b9cf52b\",\"type\":\"Circle\"},{\"attributes\":{\"background_fill_color\":{\"value\":\"#DFDFE5\"},\"below\":[{\"id\":\"fab1e5ea-b6af-45d3-8230-8ad0e6368b1b\",\"type\":\"LinearAxis\"}],\"left\":[{\"id\":\"90d945d0-00b6-42a6-b065-0a243040d34d\",\"type\":\"LinearAxis\"}],\"plot_height\":440,\"plot_width\":640,\"renderers\":[{\"id\":\"fab1e5ea-b6af-45d3-8230-8ad0e6368b1b\",\"type\":\"LinearAxis\"},{\"id\":\"465d3351-216d-490c-b0dc-f08a8555afb4\",\"type\":\"Grid\"},{\"id\":\"90d945d0-00b6-42a6-b065-0a243040d34d\",\"type\":\"LinearAxis\"},{\"id\":\"fbd104ed-d44f-4127-a2df-7b111236a93c\",\"type\":\"Grid\"},{\"id\":\"8bf458ef-26b0-45d4-a1f4-b57b38c0100c\",\"type\":\"GlyphRenderer\"},{\"id\":\"c730576f-06a2-4286-8220-ff0f8d2e4bee\",\"type\":\"BoxAnnotation\"},{\"id\":\"3aa8d2e1-e867-430b-9253-33f138fb6497\",\"type\":\"GlyphRenderer\"}],\"title_text_color\":{\"value\":\"black\"},\"title_text_font\":\"Comic Sans MS, Textile, cursive\",\"title_text_font_style\":\"bold\",\"tool_events\":{\"id\":\"07090640-a917-4102-864a-3936f7ffe3b3\",\"type\":\"ToolEvents\"},\"tools\":[{\"id\":\"b1200e92-b575-4cfc-8c02-90a29c3e34ec\",\"type\":\"PanTool\"},{\"id\":\"9b6abe8a-2371-48f5-a691-05d610fc0901\",\"type\":\"WheelZoomTool\"},{\"id\":\"65a451f7-5927-4f38-861e-c742beeab61b\",\"type\":\"BoxZoomTool\"},{\"id\":\"2f67feb9-6efd-47b1-8422-1b67797ef08d\",\"type\":\"PreviewSaveTool\"},{\"id\":\"c72dfbde-82a7-4627-b67e-99f4833077a2\",\"type\":\"ResizeTool\"},{\"id\":\"38f057f9-d418-483e-877a-b4d05cd61b78\",\"type\":\"ResetTool\"},{\"id\":\"f96770f5-69ef-4832-98fc-4e1a012b88a7\",\"type\":\"HelpTool\"}],\"x_range\":{\"id\":\"37ab9d77-5f0e-48a4-80a0-dedad61c4fb7\",\"type\":\"DataRange1d\"},\"y_range\":{\"id\":\"78a23e2c-3539-46da-bd0c-27820af455a2\",\"type\":\"DataRange1d\"}},\"id\":\"29d16cea-7d08-4c5b-b85d-e7153ff3211f\",\"type\":\"Plot\"},{\"attributes\":{\"bottom_units\":\"screen\",\"fill_alpha\":{\"value\":0.5},\"fill_color\":{\"value\":\"lightgrey\"},\"left_units\":\"screen\",\"level\":\"overlay\",\"line_alpha\":{\"value\":1.0},\"line_color\":{\"value\":\"black\"},\"line_dash\":[4,4],\"line_width\":{\"value\":2},\"plot\":null,\"render_mode\":\"css\",\"right_units\":\"screen\",\"top_units\":\"screen\"},\"id\":\"c730576f-06a2-4286-8220-ff0f8d2e4bee\",\"type\":\"BoxAnnotation\"},{\"attributes\":{},\"id\":\"c52b94a2-07d4-4b9b-9eeb-ed5f6583f4bd\",\"type\":\"BasicTicker\"},{\"attributes\":{\"callback\":null},\"id\":\"78a23e2c-3539-46da-bd0c-27820af455a2\",\"type\":\"DataRange1d\"},{\"attributes\":{},\"id\":\"f91ba86c-b3eb-4d09-a230-df9eefe8d671\",\"type\":\"BasicTicker\"},{\"attributes\":{\"plot\":{\"id\":\"29d16cea-7d08-4c5b-b85d-e7153ff3211f\",\"type\":\"Plot\"}},\"id\":\"c72dfbde-82a7-4627-b67e-99f4833077a2\",\"type\":\"ResizeTool\"}],\"root_ids\":[\"29d16cea-7d08-4c5b-b85d-e7153ff3211f\"]},\"title\":\"Bokeh Application\",\"version\":\"0.11.1\"}};\n",
       "            var render_items = [{\"docid\":\"bf1b0c39-5a4e-40b6-ac39-e8899f00ec88\",\"elementid\":\"e73559e0-3100-41f7-8a35-454231aa8759\",\"modelid\":\"29d16cea-7d08-4c5b-b85d-e7153ff3211f\",\"notebook_comms_target\":\"0d779883-e1fb-4715-81a8-36f9796ec7ec\"}];\n",
       "            \n",
       "            Bokeh.embed.embed_items(docs_json, render_items);\n",
       "        });\n",
       "      },\n",
       "      function(Bokeh) {\n",
       "      }\n",
       "    ];\n",
       "  \n",
       "    function run_inline_js() {\n",
       "      for (var i = 0; i < inline_js.length; i++) {\n",
       "        inline_js[i](window.Bokeh);\n",
       "      }\n",
       "    }\n",
       "  \n",
       "    if (window._bokeh_is_loading === 0) {\n",
       "      console.log(\"Bokeh: BokehJS loaded, going straight to plotting\");\n",
       "      run_inline_js();\n",
       "    } else {\n",
       "      load_libs(js_urls, function() {\n",
       "        console.log(\"Bokeh: BokehJS plotting callback run at\", now());\n",
       "        run_inline_js();\n",
       "      });\n",
       "    }\n",
       "  }(this));\n",
       "</script>"
      ]
     },
     "metadata": {},
     "output_type": "display_data"
    },
    {
     "data": {
      "text/html": [
       "<p><code>&lt;Bokeh Notebook handle for <strong>In[21]</strong>&gt;</code></p>"
      ],
      "text/plain": [
       "<bokeh.io._CommsHandle at 0x11d64b358>"
      ]
     },
     "execution_count": 21,
     "metadata": {},
     "output_type": "execute_result"
    }
   ],
   "source": [
    "plt.plot([p[0] for p in px], [p[1] for p in px], 'ro')\n",
    "bokeh.plotting.show(bokeh.mpl.to_bokeh(xkcd=True))"
   ]
  }
 ],
 "metadata": {
  "kernelspec": {
   "display_name": "Python 3",
   "language": "python",
   "name": "python3"
  },
  "language_info": {
   "codemirror_mode": {
    "name": "ipython",
    "version": 3
   },
   "file_extension": ".py",
   "mimetype": "text/x-python",
   "name": "python",
   "nbconvert_exporter": "python",
   "pygments_lexer": "ipython3",
   "version": "3.6.1"
  }
 },
 "nbformat": 4,
 "nbformat_minor": 2
}
